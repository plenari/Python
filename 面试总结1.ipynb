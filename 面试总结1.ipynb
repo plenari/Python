{
 "cells": [
  {
   "cell_type": "markdown",
   "metadata": {},
   "source": [
    "## 1.参数"
   ]
  },
  {
   "cell_type": "raw",
   "metadata": {},
   "source": [
    "参数是通过assignment来传递的.\n",
    "1.传递的参数实际上是内存中一个对象的引用(只不过通过值传递的)\n",
    "2.一些数据类型是可变的，有些是不可变的\n",
    "不可改变的有， string ,tuples ,numbles\n",
    "可变的有  list dict"
   ]
  },
  {
   "cell_type": "code",
   "execution_count": 1,
   "metadata": {
    "collapsed": true
   },
   "outputs": [],
   "source": [
    "a = 10\n",
    "b = 20\n",
    "def fun(a, b):\n",
    "    print('func_in', id(a), id(b))\n",
    "    a = 5\n",
    "    print('new_in', id(a), id(b))\n",
    "    c = a + b\n",
    "    return c"
   ]
  },
  {
   "cell_type": "markdown",
   "metadata": {},
   "source": [
    "    如果传递的值与全局变量相同就会有相同的id\n",
    "    得到的值与传入的值有相同的id,但是对于string ,tuples ,numbles如果想改变就会得到一份新的。\n",
    "    对于list,ditc就会直接改变"
   ]
  },
  {
   "cell_type": "code",
   "execution_count": 2,
   "metadata": {},
   "outputs": [
    {
     "name": "stdout",
     "output_type": "stream",
     "text": [
      "global 1348725488 1348725808\n",
      "func_in 1348725488 1348725488\n",
      "new_in 1348725328 1348725488\n",
      "15 10\n"
     ]
    }
   ],
   "source": [
    "print('global', id(a), id(b))\n",
    "print(fun(10, 10),a)"
   ]
  },
  {
   "cell_type": "code",
   "execution_count": 3,
   "metadata": {
    "collapsed": true
   },
   "outputs": [],
   "source": [
    "a = [10,1]\n",
    "b = [20,2]\n",
    "def fun(a, b):\n",
    "    print('func_in', id(a), id(b))\n",
    "    a = 5\n",
    "    print('new_in', id(a), id(b))\n",
    "    #c = a + b\n",
    "    return "
   ]
  },
  {
   "cell_type": "code",
   "execution_count": 4,
   "metadata": {},
   "outputs": [
    {
     "name": "stdout",
     "output_type": "stream",
     "text": [
      "before, outer_list = ['one', 'two', 'three']\n",
      "got ['one', 'two', 'three']\n",
      "changed to ['one', 'two', 'three', 'four']\n",
      "after, outer_list = ['one', 'two', 'three', 'four']\n"
     ]
    }
   ],
   "source": [
    "def try_to_change_list_contents(the_list):\n",
    "    print('got', the_list)\n",
    "    the_list.append('four')\n",
    "    print('changed to', the_list)\n",
    "\n",
    "outer_list = ['one', 'two', 'three']\n",
    "\n",
    "print('before, outer_list =', outer_list)\n",
    "try_to_change_list_contents(outer_list)\n",
    "print('after, outer_list =', outer_list)"
   ]
  },
  {
   "cell_type": "code",
   "execution_count": 5,
   "metadata": {
    "scrolled": true
   },
   "outputs": [
    {
     "name": "stdout",
     "output_type": "stream",
     "text": [
      "before, outer_string = It was many and many a year ago\n",
      "got:  It was many and many a year ago\n",
      "set to:  In a kingdom by the sea\n",
      "after, outer_string = It was many and many a year ago\n"
     ]
    }
   ],
   "source": [
    "def try_to_change_string_reference(the_string):\n",
    "    print('got: ', the_string)\n",
    "    the_string = 'In a kingdom by the sea'\n",
    "    print('set to: ', the_string)\n",
    "\n",
    "outer_string = 'It was many and many a year ago'\n",
    "\n",
    "print('before, outer_string =', outer_string)\n",
    "try_to_change_string_reference(outer_string)\n",
    "print('after, outer_string =', outer_string)"
   ]
  },
  {
   "cell_type": "markdown",
   "metadata": {},
   "source": [
    "## 2.字典列表"
   ]
  },
  {
   "cell_type": "markdown",
   "metadata": {},
   "source": [
    "#### tupe，元组 不同类型，可重复，不可修改"
   ]
  },
  {
   "cell_type": "code",
   "execution_count": 6,
   "metadata": {
    "collapsed": true
   },
   "outputs": [],
   "source": [
    "tupe=('a',1,'a')\n",
    "tupe[2]\n",
    "t=(1,)"
   ]
  },
  {
   "cell_type": "markdown",
   "metadata": {},
   "source": [
    "#### set ,集合,不重复，无序"
   ]
  },
  {
   "cell_type": "code",
   "execution_count": 7,
   "metadata": {},
   "outputs": [
    {
     "data": {
      "text/plain": [
       "{1, 2, 3}"
      ]
     },
     "execution_count": 7,
     "metadata": {},
     "output_type": "execute_result"
    }
   ],
   "source": [
    "sets=set([1,3,3,2])\n",
    "sets"
   ]
  },
  {
   "cell_type": "markdown",
   "metadata": {},
   "source": [
    "#### dict ,字典，无序，key不可以重复"
   ]
  },
  {
   "cell_type": "code",
   "execution_count": 8,
   "metadata": {},
   "outputs": [
    {
     "name": "stdout",
     "output_type": "stream",
     "text": [
      "a 1\n",
      "b 1\n"
     ]
    }
   ],
   "source": [
    "dicts={'a':1,'b':1}\n",
    "for i,j in dicts.items():\n",
    "    print(i,j)\n"
   ]
  },
  {
   "cell_type": "markdown",
   "metadata": {},
   "source": [
    "#### list 返回空的列表而不是一个错误"
   ]
  },
  {
   "cell_type": "code",
   "execution_count": 4,
   "metadata": {
    "scrolled": true
   },
   "outputs": [
    {
     "data": {
      "text/plain": [
       "[]"
      ]
     },
     "execution_count": 4,
     "metadata": {},
     "output_type": "execute_result"
    }
   ],
   "source": [
    "lists=['a','b','c','d','e']\n",
    "lists[10:]"
   ]
  },
  {
   "cell_type": "code",
   "execution_count": 5,
   "metadata": {},
   "outputs": [
    {
     "data": {
      "text/plain": [
       "[[], [], [], [], []]"
      ]
     },
     "execution_count": 5,
     "metadata": {},
     "output_type": "execute_result"
    }
   ],
   "source": [
    "lists=[[]]*5\n",
    "lists"
   ]
  },
  {
   "cell_type": "code",
   "execution_count": 6,
   "metadata": {},
   "outputs": [
    {
     "data": {
      "text/plain": [
       "[[10], [10], [10], [10], [10]]"
      ]
     },
     "execution_count": 6,
     "metadata": {},
     "output_type": "execute_result"
    }
   ],
   "source": [
    "lists[0].append(10)\n",
    "lists"
   ]
  },
  {
   "cell_type": "code",
   "execution_count": 9,
   "metadata": {
    "collapsed": true
   },
   "outputs": [],
   "source": [
    "lists[0]=[90]"
   ]
  },
  {
   "cell_type": "code",
   "execution_count": 10,
   "metadata": {},
   "outputs": [
    {
     "data": {
      "text/plain": [
       "[[90], [10], [10], [10], [10]]"
      ]
     },
     "execution_count": 10,
     "metadata": {},
     "output_type": "execute_result"
    }
   ],
   "source": [
    "lists"
   ]
  },
  {
   "cell_type": "code",
   "execution_count": 26,
   "metadata": {
    "collapsed": true
   },
   "outputs": [],
   "source": [
    "def extendlist(var,lists=None):\n",
    "    if lists==None:\n",
    "        lists=[]\n",
    "    lists.append(var)\n",
    "    return lists\n"
   ]
  },
  {
   "cell_type": "code",
   "execution_count": 31,
   "metadata": {},
   "outputs": [
    {
     "data": {
      "text/plain": [
       "[10]"
      ]
     },
     "execution_count": 31,
     "metadata": {},
     "output_type": "execute_result"
    }
   ],
   "source": [
    "list1=extendlist(10)\n",
    "list1"
   ]
  },
  {
   "cell_type": "code",
   "execution_count": null,
   "metadata": {
    "collapsed": true
   },
   "outputs": [],
   "source": []
  },
  {
   "cell_type": "markdown",
   "metadata": {},
   "source": [
    "## 4.虚拟环境"
   ]
  },
  {
   "cell_type": "raw",
   "metadata": {},
   "source": [
    "    anaconda\n",
    "    conda create -n python2 python=2.7\n",
    "    source activate python2\n",
    "    deactivate"
   ]
  },
  {
   "cell_type": "markdown",
   "metadata": {},
   "source": [
    "## 5. range or xrange"
   ]
  },
  {
   "cell_type": "code",
   "execution_count": null,
   "metadata": {
    "collapsed": true
   },
   "outputs": [],
   "source": [
    "def fab(max): \n",
    "    n, a, b = 0, 0, 1 \n",
    "    while n < max: \n",
    "        yield b \n",
    "        # print b \n",
    "        a, b = b, a + b \n",
    "        n = n + 1 \n",
    " "
   ]
  },
  {
   "cell_type": "code",
   "execution_count": null,
   "metadata": {
    "collapsed": true,
    "scrolled": true
   },
   "outputs": [],
   "source": [
    "def xrange(max):\n",
    "    x=0\n",
    "    while x<max:\n",
    "        yield x\n",
    "        x+=1"
   ]
  },
  {
   "cell_type": "code",
   "execution_count": null,
   "metadata": {
    "collapsed": true
   },
   "outputs": [],
   "source": [
    "def f():\n",
    "    for i in xrange(10):\n",
    "        return i"
   ]
  },
  {
   "cell_type": "code",
   "execution_count": null,
   "metadata": {
    "collapsed": true
   },
   "outputs": [],
   "source": [
    "%timeit f()"
   ]
  },
  {
   "cell_type": "code",
   "execution_count": null,
   "metadata": {
    "collapsed": true
   },
   "outputs": [],
   "source": [
    "def f2():\n",
    "    for i in range(10):\n",
    "        return i"
   ]
  },
  {
   "cell_type": "code",
   "execution_count": null,
   "metadata": {
    "collapsed": true
   },
   "outputs": [],
   "source": [
    "%timeit f2()"
   ]
  },
  {
   "cell_type": "markdown",
   "metadata": {},
   "source": [
    "## 9.inspec"
   ]
  },
  {
   "cell_type": "code",
   "execution_count": null,
   "metadata": {
    "collapsed": true
   },
   "outputs": [],
   "source": [
    "import inspect"
   ]
  },
  {
   "cell_type": "markdown",
   "metadata": {},
   "source": [
    "## 10.and or"
   ]
  },
  {
   "cell_type": "raw",
   "metadata": {},
   "source": [
    "These are the Boolean operations, ordered by ascending priority: Operation Result Notes\n",
    "\n",
    "x or y if x is false, then y, else x (1)\n",
    "x and y if x is false, then x, else y (2)\n",
    "not x if x is false, then True, else False (3)\n"
   ]
  },
  {
   "cell_type": "markdown",
   "metadata": {},
   "source": [
    "## 11. 类型转换"
   ]
  },
  {
   "cell_type": "raw",
   "metadata": {},
   "source": [
    "int(x [,base ]) x转换为一个整数\n",
    "long(x [,base ]) x转换为一个长整数\n",
    "complex(real [,imag ]) 创建一个复数\n",
    "repr(x) 对象 x 转换为表达式字符串\n",
    "eval(str) 用来计算在字符串中的有效Python表达式,并返回一个对象\n",
    "chr(x) 一个整数转换为一个字符\n",
    "unichr(x) 一个整数转换为Unicode字符\n",
    "ord(x) 一个字符转换为它的整数值\n",
    "hex(x) 一个整数转换为一个十六进制字符串\n",
    "oct(x) 一个整数转换为一个八进制字符串"
   ]
  },
  {
   "cell_type": "code",
   "execution_count": null,
   "metadata": {
    "collapsed": true
   },
   "outputs": [],
   "source": [
    "oct(12),int(88.5),chr(2),ord('a'),hex(12)"
   ]
  },
  {
   "cell_type": "markdown",
   "metadata": {},
   "source": [
    "## 13.删除文件"
   ]
  },
  {
   "cell_type": "raw",
   "metadata": {},
   "source": [
    "import os\n",
    "# 删除文件:\n",
    "os.remove()\n",
    "# 删除空目录:\n",
    "os.rmdir()\n",
    "# 递归删除空目录:\n",
    "os.removedirs()"
   ]
  },
  {
   "cell_type": "markdown",
   "metadata": {},
   "source": [
    "## 14.copy "
   ]
  },
  {
   "cell_type": "markdown",
   "metadata": {},
   "source": [
    "    赋值（=），就是创建了对象的一个新的引用，修改其中任意一个变量都会影响到另一个。\n",
    "    浅拷贝：创建一个新的对象，但它包含的是对原始对象中包含项的引用（如果用引用的方式修改其中一个对象，\n",
    "    另外一个也会修改改变）\n",
    "        {1,完全切片方法；2，工厂函数，如list()；3，copy模块的copy()函数}\n",
    "    深拷贝：创建一个新的对象，并且递归的复制它所包含的对象（修改其中一个，另外一个不会改变）{copy模块\n",
    "    的deep.deepcopy()函数}"
   ]
  },
  {
   "cell_type": "code",
   "execution_count": 10,
   "metadata": {
    "scrolled": true
   },
   "outputs": [
    {
     "name": "stdout",
     "output_type": "stream",
     "text": [
      "a =  [1, 2, 3, 4, ['a', 'b', 'c'], 5]\n",
      "b =  [1, 2, 3, 4, ['a', 'b', 'c'], 5]\n",
      "c =  [1, 2, 3, 4, ['a', 'b', 'c']]\n",
      "d =  [1, 2, 3, 4, ['a', 'b']]\n"
     ]
    }
   ],
   "source": [
    "import copy\n",
    "a = [1, 2, 3, 4, ['a', 'b']] #原始对象\n",
    "b = a #赋值，传对象的引用\n",
    "c = copy.copy(a) #对象拷贝，浅拷贝\n",
    "d = copy.deepcopy(a) #对象拷贝，深拷贝\n",
    "a.append(5) #修改对象a\n",
    "a[4].append('c') #修改对象a中的['a', 'b']数组对象\n",
    "print('a = ', a)\n",
    "print('b = ', b)\n",
    "print('c = ', c)\n",
    "print('d = ', d)"
   ]
  },
  {
   "cell_type": "code",
   "execution_count": 11,
   "metadata": {},
   "outputs": [
    {
     "data": {
      "text/plain": [
       "(2105539943752, 2105539664648, 2105539664648, 2105539664520)"
      ]
     },
     "execution_count": 11,
     "metadata": {},
     "output_type": "execute_result"
    }
   ],
   "source": [
    "id(a),id(b[4]),id(c[4]),id(d[4])"
   ]
  },
  {
   "cell_type": "markdown",
   "metadata": {},
   "source": [
    "## 15.中文乱码"
   ]
  },
  {
   "cell_type": "code",
   "execution_count": null,
   "metadata": {
    "collapsed": true
   },
   "outputs": [],
   "source": []
  },
  {
   "cell_type": "markdown",
   "metadata": {},
   "source": [
    "## 16.socket"
   ]
  },
  {
   "cell_type": "markdown",
   "metadata": {},
   "source": [
    "## 17.raise,exception"
   ]
  },
  {
   "cell_type": "code",
   "execution_count": null,
   "metadata": {
    "collapsed": true
   },
   "outputs": [],
   "source": []
  },
  {
   "cell_type": "markdown",
   "metadata": {},
   "source": [
    "## 18. 栈"
   ]
  },
  {
   "cell_type": "code",
   "execution_count": 6,
   "metadata": {
    "collapsed": true
   },
   "outputs": [],
   "source": [
    "class ArrayStack():  \n",
    "    \"\"\"LIFO Stack implementation using a Python list as underlying storage\"\"\"  \n",
    "      \n",
    "    def __init__(self, n):  \n",
    "        \"\"\"Create an empty stack.\"\"\"  \n",
    "        self.data = []  \n",
    "        self.maxLen = n  # n : an integer that represent the max elements capacity of the stack  \n",
    "  \n",
    "    def __len__(self):  \n",
    "        \"\"\"Return the number of elements in the stack\"\"\"  \n",
    "        return len(self.data)  \n",
    "      \n",
    "    def is_empty(self):  \n",
    "        \"\"\"Return True if the stack is empty\"\"\"  \n",
    "        return len(self.data) == 0   \n",
    "      \n",
    "    def is_full(self):  \n",
    "        \"\"\"Return True if the stack is full\"\"\"  \n",
    "        return len(self.data) == self.maxLen  \n",
    "      \n",
    "    def push(self, e):  \n",
    "        \"\"\"Add element e to the top of the stack \n",
    "         \n",
    "         Raise Empty exception if the stack is full\"\"\"  \n",
    "        if self.is_full():  \n",
    "            raise OverFlow('Stack is full')              \n",
    "        return self.data.append(e)  \n",
    "      \n",
    "    def top(self):  \n",
    "        \"\"\"Return the element at the top of the stack, but not move it. \n",
    "         \n",
    "        Raise Empty exception if the stack is empty\"\"\"  \n",
    "        if self.is_empty():  \n",
    "            raise Empty('Stack is empty')  \n",
    "        return self.data[-1]  \n",
    "      \n",
    "    def pop(self):  \n",
    "        \"\"\"Return the element at the top of the stack, meanwhile move it. \n",
    "         \n",
    "        Raise Empty exception if the stack is empty\"\"\"  \n",
    "        if self.is_empty():  \n",
    "            raise Empty('Stack is empty')  \n",
    "        return self.data.pop() "
   ]
  },
  {
   "cell_type": "code",
   "execution_count": 8,
   "metadata": {
    "collapsed": true
   },
   "outputs": [],
   "source": [
    "stack=ArrayStack(20)"
   ]
  },
  {
   "cell_type": "markdown",
   "metadata": {},
   "source": [
    "## 20.性能分析"
   ]
  },
  {
   "cell_type": "raw",
   "metadata": {},
   "source": [
    "python的str是不可变对象，每次迭代，都会生成新的str对象来存储新的字符串，num越\n",
    "大，创建的str对象越多，内存消耗越大"
   ]
  },
  {
   "cell_type": "code",
   "execution_count": 12,
   "metadata": {
    "collapsed": true
   },
   "outputs": [],
   "source": [
    "def strtest1(num):\n",
    "    str='first'\n",
    "    for i in range(num):\n",
    "        str+=\"X\"\n",
    "    return str"
   ]
  },
  {
   "cell_type": "code",
   "execution_count": 19,
   "metadata": {},
   "outputs": [
    {
     "name": "stdout",
     "output_type": "stream",
     "text": [
      "10000 loops, best of 3: 139 µs per loop\n"
     ]
    }
   ],
   "source": [
    "%timeit strtest1(1000)"
   ]
  },
  {
   "cell_type": "code",
   "execution_count": 32,
   "metadata": {
    "collapsed": true
   },
   "outputs": [],
   "source": [
    "def strtest2(num):\n",
    "    strs='first'\n",
    "    for i in range(num):\n",
    "        strs.join(\"X\")\n",
    "    return strs"
   ]
  },
  {
   "cell_type": "code",
   "execution_count": 33,
   "metadata": {
    "scrolled": true
   },
   "outputs": [
    {
     "name": "stdout",
     "output_type": "stream",
     "text": [
      "1000 loops, best of 3: 213 µs per loop\n"
     ]
    }
   ],
   "source": [
    "%timeit strtest2(1000)"
   ]
  },
  {
   "cell_type": "code",
   "execution_count": null,
   "metadata": {
    "collapsed": true
   },
   "outputs": [],
   "source": []
  },
  {
   "cell_type": "code",
   "execution_count": null,
   "metadata": {
    "collapsed": true
   },
   "outputs": [],
   "source": []
  }
 ],
 "metadata": {
  "kernelspec": {
   "display_name": "Python 3",
   "language": "python",
   "name": "python3"
  },
  "language_info": {
   "codemirror_mode": {
    "name": "ipython",
    "version": 3
   },
   "file_extension": ".py",
   "mimetype": "text/x-python",
   "name": "python",
   "nbconvert_exporter": "python",
   "pygments_lexer": "ipython3",
   "version": "3.6.1"
  }
 },
 "nbformat": 4,
 "nbformat_minor": 2
}
