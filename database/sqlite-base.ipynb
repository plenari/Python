{
 "cells": [
  {
   "cell_type": "markdown",
   "metadata": {},
   "source": [
    "## sqlite3 \n",
    "### create delete execute insert table update  select"
   ]
  },
  {
   "cell_type": "raw",
   "metadata": {},
   "source": [
    "序号\tAPI & 描述\n",
    "1\tsqlite3.connect(database [,timeout ,other optional arguments])\n",
    "该 API 打开一个到 SQLite 数据库文件 database 的链接。您可以使用 \":memory:\" 来在 RAM 中打开一个到 database 的数据库连接，而不是在磁盘上打开。如果数据库成功打开，则返回一个连接对象。\n",
    "\n",
    "当一个数据库被多个连接访问，且其中一个修改了数据库，此时 SQLite 数据库被锁定，直到事务提交。timeout 参数表示连接等待锁定的持续时间，直到发生异常断开连接。timeout 参数默认是 5.0（5 秒）。\n",
    "\n",
    "如果给定的数据库名称 filename 不存在，则该调用将创建一个数据库。如果您不想在当前目录中创建数据库，那么您可以指定带有路径的文件名，这样您就能在任意地方创建数据库。\n",
    "\n",
    "2\tconnection.cursor([cursorClass])\n",
    "该例程创建一个 cursor，将在 Python 数据库编程中用到。该方法接受一个单一的可选的参数 cursorClass。如果提供了该参数，则它必须是一个扩展自 sqlite3.Cursor 的自定义的 cursor 类。\n",
    "\n",
    "3\tcursor.execute(sql [, optional parameters])\n",
    "该例程执行一个 SQL 语句。该 SQL 语句可以被参数化（即使用占位符代替 SQL 文本）。sqlite3 模块支持两种类型的占位符：问号和命名占位符（命名样式）。\n",
    "\n",
    "例如：cursor.execute(\"insert into people values (?, ?)\", (who, age))\n",
    "\n",
    "4\tconnection.execute(sql [, optional parameters])\n",
    "该例程是上面执行的由光标（cursor）对象提供的方法的快捷方式，它通过调用光标（cursor）方法创建了一个中间的光标对象，然后通过给定的参数调用光标的 execute 方法。\n",
    "\n",
    "5\tcursor.executemany(sql, seq_of_parameters)\n",
    "该例程对 seq_of_parameters 中的所有参数或映射执行一个 SQL 命令。\n",
    "\n",
    "6\tconnection.executemany(sql[, parameters])\n",
    "该例程是一个由调用光标（cursor）方法创建的中间的光标对象的快捷方式，然后通过给定的参数调用光标的 executemany 方法。\n",
    "\n",
    "7\tcursor.executescript(sql_script)\n",
    "该例程一旦接收到脚本，会执行多个 SQL 语句。它首先执行 COMMIT 语句，然后执行作为参数传入的 SQL 脚本。所有的 SQL 语句应该用分号（;）分隔。\n",
    "\n",
    "8\tconnection.executescript(sql_script)\n",
    "该例程是一个由调用光标（cursor）方法创建的中间的光标对象的快捷方式，然后通过给定的参数调用光标的 executescript 方法。\n",
    "\n",
    "9\tconnection.total_changes()\n",
    "该例程返回自数据库连接打开以来被修改、插入或删除的数据库总行数。\n",
    "\n",
    "10\tconnection.commit()\n",
    "该方法提交当前的事务。如果您未调用该方法，那么自您上一次调用 commit() 以来所做的任何动作对其他数据库连接来说是不可见的。\n",
    "\n",
    "11\tconnection.rollback()\n",
    "该方法回滚自上一次调用 commit() 以来对数据库所做的更改。\n",
    "\n",
    "12\tconnection.close()\n",
    "该方法关闭数据库连接。请注意，这不会自动调用 commit()。如果您之前未调用 commit() 方法，就直接关闭数据库连接，您所做的所有更改将全部丢失！\n",
    "\n",
    "13\tcursor.fetchone()\n",
    "该方法获取查询结果集中的下一行，返回一个单一的序列，当没有更多可用的数据时，则返回 None。\n",
    "\n",
    "14\tcursor.fetchmany([size=cursor.arraysize])\n",
    "该方法获取查询结果集中的下一行组，返回一个列表。当没有更多的可用的行时，则返回一个空的列表。该方法尝试获取由 size 参数指定的尽可能多的行。\n",
    "\n",
    "15\tcursor.fetchall()\n",
    "该例程获取查询结果集中所有（剩余）的行，返回一个列表。当没有可用的行时，则返回一个空的列表"
   ]
  },
  {
   "cell_type": "code",
   "execution_count": 1,
   "metadata": {
    "collapsed": true
   },
   "outputs": [],
   "source": [
    "import sqlite3 as sql\n",
    "import numpy as np\n",
    "import pandas as pd"
   ]
  },
  {
   "cell_type": "code",
   "execution_count": 2,
   "metadata": {
    "collapsed": true
   },
   "outputs": [],
   "source": [
    "#链接数据库\n",
    "conn=sql.connect('days.db')\n",
    "#创建工作表\n",
    "conn.execute('''CREATE TABLE day\n",
    "(ID int primary key,\n",
    "OPEN REAL NOT NULL,\n",
    "HIGH REAL NOT NULL,\n",
    "LOW REAL NOT NULL,\n",
    "DATA text NOT NULL);''')\n",
    "#确认过程\n",
    "conn.commit()"
   ]
  },
  {
   "cell_type": "code",
   "execution_count": null,
   "metadata": {
    "collapsed": true
   },
   "outputs": [],
   "source": []
  },
  {
   "cell_type": "raw",
   "metadata": {},
   "source": [
    "#利用connetcion插入\n",
    "conn.execute('INSERT INTO day(ID ,OPEN,HIGH,LOW,DATA)VALUES (1,10,15,8,2012-1-1)')"
   ]
  },
  {
   "cell_type": "code",
   "execution_count": 7,
   "metadata": {},
   "outputs": [],
   "source": [
    "cur=conn.cursor()"
   ]
  },
  {
   "cell_type": "code",
   "execution_count": 8,
   "metadata": {},
   "outputs": [
    {
     "data": {
      "text/plain": [
       "[(1, 10.0, 15.0, 8.0, '2010')]"
      ]
     },
     "execution_count": 8,
     "metadata": {},
     "output_type": "execute_result"
    }
   ],
   "source": [
    "cur.execute('SELECT ID,OPEN,HIGH ,LOW,DATA from day where ID=1')\n",
    "cur.fetchall()"
   ]
  },
  {
   "cell_type": "code",
   "execution_count": null,
   "metadata": {},
   "outputs": [],
   "source": []
  },
  {
   "cell_type": "code",
   "execution_count": 10,
   "metadata": {},
   "outputs": [
    {
     "data": {
      "text/plain": [
       "<sqlite3.Cursor at 0x16b8f5f1ea0>"
      ]
     },
     "execution_count": 10,
     "metadata": {},
     "output_type": "execute_result"
    }
   ],
   "source": [
    "cur.execute('INSERT INTO day(ID ,OPEN,HIGH,LOW,DATA)\\\n",
    "            VALUES (2,11,15,8,2012-1-2)')\n",
    "cur.execute('INSERT INTO day(ID ,OPEN,HIGH,LOW,DATA)\\\n",
    "            VALUES (3,12,15,8,2012-1-3)')\n",
    "cur.execute('INSERT INTO day(ID ,OPEN,HIGH,LOW,DATA)\\\n",
    "            VALUES (4,13,15,8,2012-1-4)')"
   ]
  },
  {
   "cell_type": "code",
   "execution_count": null,
   "metadata": {},
   "outputs": [],
   "source": []
  },
  {
   "cell_type": "code",
   "execution_count": 12,
   "metadata": {},
   "outputs": [
    {
     "data": {
      "text/plain": [
       "<sqlite3.Cursor at 0x16b8f5f1ea0>"
      ]
     },
     "execution_count": 12,
     "metadata": {},
     "output_type": "execute_result"
    }
   ],
   "source": [
    "#update\n",
    "cur.execute('UPDATE day SET OPEN=20 WHERE ID=2')"
   ]
  },
  {
   "cell_type": "code",
   "execution_count": 18,
   "metadata": {},
   "outputs": [
    {
     "data": {
      "text/plain": [
       "[(1, 10.0, 15.0, 8.0, '2010'),\n",
       " (2, 20.0, 15.0, 8.0, '2009'),\n",
       " (3, 12.0, 15.0, 8.0, '2008'),\n",
       " (4, 13.0, 15.0, 8.0, '2007')]"
      ]
     },
     "execution_count": 18,
     "metadata": {},
     "output_type": "execute_result"
    }
   ],
   "source": [
    "cur.execute('''select * from day;''')\n",
    "cur.fetchall()\n",
    "#cur.close()"
   ]
  },
  {
   "cell_type": "code",
   "execution_count": 19,
   "metadata": {
    "collapsed": true
   },
   "outputs": [],
   "source": [
    "cur.close()"
   ]
  },
  {
   "cell_type": "code",
   "execution_count": 20,
   "metadata": {},
   "outputs": [],
   "source": [
    "cur=conn.cursor()"
   ]
  },
  {
   "cell_type": "code",
   "execution_count": 21,
   "metadata": {},
   "outputs": [
    {
     "data": {
      "text/html": [
       "<div>\n",
       "<style>\n",
       "    .dataframe thead tr:only-child th {\n",
       "        text-align: right;\n",
       "    }\n",
       "\n",
       "    .dataframe thead th {\n",
       "        text-align: left;\n",
       "    }\n",
       "\n",
       "    .dataframe tbody tr th {\n",
       "        vertical-align: top;\n",
       "    }\n",
       "</style>\n",
       "<table border=\"1\" class=\"dataframe\">\n",
       "  <thead>\n",
       "    <tr style=\"text-align: right;\">\n",
       "      <th></th>\n",
       "      <th>A</th>\n",
       "      <th>B</th>\n",
       "      <th>C</th>\n",
       "      <th>D</th>\n",
       "      <th>E</th>\n",
       "      <th>F</th>\n",
       "      <th>G</th>\n",
       "      <th>H</th>\n",
       "      <th>I</th>\n",
       "      <th>J</th>\n",
       "    </tr>\n",
       "    <tr>\n",
       "      <th>data</th>\n",
       "      <th></th>\n",
       "      <th></th>\n",
       "      <th></th>\n",
       "      <th></th>\n",
       "      <th></th>\n",
       "      <th></th>\n",
       "      <th></th>\n",
       "      <th></th>\n",
       "      <th></th>\n",
       "      <th></th>\n",
       "    </tr>\n",
       "  </thead>\n",
       "  <tbody>\n",
       "    <tr>\n",
       "      <th>2012-11-02</th>\n",
       "      <td>-0.273516</td>\n",
       "      <td>-1.576509</td>\n",
       "      <td>-0.582034</td>\n",
       "      <td>1.529881</td>\n",
       "      <td>-1.053765</td>\n",
       "      <td>-0.306994</td>\n",
       "      <td>-2.124864</td>\n",
       "      <td>-1.430118</td>\n",
       "      <td>-1.259015</td>\n",
       "      <td>0.283271</td>\n",
       "    </tr>\n",
       "    <tr>\n",
       "      <th>2012-11-03</th>\n",
       "      <td>1.070229</td>\n",
       "      <td>-0.400107</td>\n",
       "      <td>-0.615074</td>\n",
       "      <td>-0.374237</td>\n",
       "      <td>0.837945</td>\n",
       "      <td>0.068248</td>\n",
       "      <td>-0.743657</td>\n",
       "      <td>0.993415</td>\n",
       "      <td>-1.618985</td>\n",
       "      <td>-0.303311</td>\n",
       "    </tr>\n",
       "    <tr>\n",
       "      <th>2012-11-04</th>\n",
       "      <td>0.738215</td>\n",
       "      <td>-0.618188</td>\n",
       "      <td>0.058423</td>\n",
       "      <td>-0.555982</td>\n",
       "      <td>-2.589531</td>\n",
       "      <td>0.518784</td>\n",
       "      <td>-0.046009</td>\n",
       "      <td>0.011535</td>\n",
       "      <td>1.891901</td>\n",
       "      <td>0.357973</td>\n",
       "    </tr>\n",
       "    <tr>\n",
       "      <th>2012-11-05</th>\n",
       "      <td>1.962694</td>\n",
       "      <td>1.798877</td>\n",
       "      <td>-0.544523</td>\n",
       "      <td>0.498141</td>\n",
       "      <td>-0.685497</td>\n",
       "      <td>-0.060012</td>\n",
       "      <td>-0.594845</td>\n",
       "      <td>1.113686</td>\n",
       "      <td>-0.538534</td>\n",
       "      <td>-1.214737</td>\n",
       "    </tr>\n",
       "    <tr>\n",
       "      <th>2012-11-06</th>\n",
       "      <td>0.296333</td>\n",
       "      <td>0.476627</td>\n",
       "      <td>-1.010206</td>\n",
       "      <td>1.093307</td>\n",
       "      <td>1.383014</td>\n",
       "      <td>0.128912</td>\n",
       "      <td>-0.280750</td>\n",
       "      <td>-0.234372</td>\n",
       "      <td>0.517836</td>\n",
       "      <td>-0.802690</td>\n",
       "    </tr>\n",
       "  </tbody>\n",
       "</table>\n",
       "</div>"
      ],
      "text/plain": [
       "                   A         B         C         D         E         F  \\\n",
       "data                                                                     \n",
       "2012-11-02 -0.273516 -1.576509 -0.582034  1.529881 -1.053765 -0.306994   \n",
       "2012-11-03  1.070229 -0.400107 -0.615074 -0.374237  0.837945  0.068248   \n",
       "2012-11-04  0.738215 -0.618188  0.058423 -0.555982 -2.589531  0.518784   \n",
       "2012-11-05  1.962694  1.798877 -0.544523  0.498141 -0.685497 -0.060012   \n",
       "2012-11-06  0.296333  0.476627 -1.010206  1.093307  1.383014  0.128912   \n",
       "\n",
       "                   G         H         I         J  \n",
       "data                                                \n",
       "2012-11-02 -2.124864 -1.430118 -1.259015  0.283271  \n",
       "2012-11-03 -0.743657  0.993415 -1.618985 -0.303311  \n",
       "2012-11-04 -0.046009  0.011535  1.891901  0.357973  \n",
       "2012-11-05 -0.594845  1.113686 -0.538534 -1.214737  \n",
       "2012-11-06 -0.280750 -0.234372  0.517836 -0.802690  "
      ]
     },
     "execution_count": 21,
     "metadata": {},
     "output_type": "execute_result"
    }
   ],
   "source": [
    "data=np.random.randn(10,10)\n",
    "df=pd.DataFrame(data,index=pd.date_range('2012-11-2',freq='D',periods=10),columns=list('ABCDEFGHIJ'))\n",
    "df.index.name='data'\n",
    "df.head()"
   ]
  },
  {
   "cell_type": "code",
   "execution_count": 22,
   "metadata": {
    "collapsed": true
   },
   "outputs": [],
   "source": [
    "df.to_sql('test1',conn)"
   ]
  },
  {
   "cell_type": "code",
   "execution_count": 24,
   "metadata": {
    "collapsed": true
   },
   "outputs": [],
   "source": [
    "conn.commit()"
   ]
  },
  {
   "cell_type": "code",
   "execution_count": 26,
   "metadata": {},
   "outputs": [
    {
     "data": {
      "text/plain": [
       "-1"
      ]
     },
     "execution_count": 26,
     "metadata": {},
     "output_type": "execute_result"
    }
   ],
   "source": [
    "cur.rowcount"
   ]
  },
  {
   "cell_type": "code",
   "execution_count": 29,
   "metadata": {},
   "outputs": [
    {
     "data": {
      "text/plain": [
       "[('2012-11-02 00:00:00',\n",
       "  -0.2735162212443435,\n",
       "  -1.5765091026762612,\n",
       "  -0.5820340625319914,\n",
       "  1.5298808003037578,\n",
       "  -1.053765443706335,\n",
       "  -0.3069944087242001,\n",
       "  -2.124864101908024,\n",
       "  -1.4301177775083984,\n",
       "  -1.2590148417039757,\n",
       "  0.28327146397782177),\n",
       " ('2012-11-03 00:00:00',\n",
       "  1.0702292029650302,\n",
       "  -0.4001072168717096,\n",
       "  -0.6150740756141178,\n",
       "  -0.3742373660739016,\n",
       "  0.8379448332095113,\n",
       "  0.06824802344528172,\n",
       "  -0.7436566635275933,\n",
       "  0.9934145119742138,\n",
       "  -1.6189846779670067,\n",
       "  -0.30331059005241345),\n",
       " ('2012-11-04 00:00:00',\n",
       "  0.7382146952219172,\n",
       "  -0.6181876347178497,\n",
       "  0.05842312509662792,\n",
       "  -0.5559816711511472,\n",
       "  -2.5895305027518187,\n",
       "  0.5187842923503183,\n",
       "  -0.046009035686696335,\n",
       "  0.011534631891608995,\n",
       "  1.8919014536807566,\n",
       "  0.3579729126932327),\n",
       " ('2012-11-05 00:00:00',\n",
       "  1.9626937455945552,\n",
       "  1.798877250105441,\n",
       "  -0.5445227185885675,\n",
       "  0.49814071372428076,\n",
       "  -0.6854969101279957,\n",
       "  -0.060012352154146395,\n",
       "  -0.5948453979260367,\n",
       "  1.113686194330381,\n",
       "  -0.5385341805021198,\n",
       "  -1.2147374967103133),\n",
       " ('2012-11-06 00:00:00',\n",
       "  0.29633304673502014,\n",
       "  0.47662708749709604,\n",
       "  -1.0102055810372275,\n",
       "  1.0933070596009842,\n",
       "  1.383013797959385,\n",
       "  0.1289122376994353,\n",
       "  -0.2807497922819098,\n",
       "  -0.23437169427277701,\n",
       "  0.5178361471138605,\n",
       "  -0.8026900248156429),\n",
       " ('2012-11-07 00:00:00',\n",
       "  1.2216089793079916,\n",
       "  1.4284997799710144,\n",
       "  -1.4517033125255556,\n",
       "  2.5125513543506157,\n",
       "  0.05042399705164765,\n",
       "  1.2431882976302038,\n",
       "  -0.7643512401435548,\n",
       "  1.172900718789386,\n",
       "  -1.0927541749420022,\n",
       "  0.4575451533099716),\n",
       " ('2012-11-08 00:00:00',\n",
       "  0.30290295118359456,\n",
       "  0.9181669383846702,\n",
       "  -1.47667849122638,\n",
       "  1.7517381191149823,\n",
       "  0.33335660115192134,\n",
       "  -0.25377641490976216,\n",
       "  0.924845467494778,\n",
       "  -0.3263475515753616,\n",
       "  -0.9517171380106405,\n",
       "  1.4170458183735983),\n",
       " ('2012-11-09 00:00:00',\n",
       "  0.8489261116340963,\n",
       "  -0.3159621859831441,\n",
       "  -0.27368943776588417,\n",
       "  -0.279714423383902,\n",
       "  -0.134785581793038,\n",
       "  -0.10014409150227742,\n",
       "  -0.42543270353232954,\n",
       "  0.3528171155528826,\n",
       "  0.8576132528797646,\n",
       "  -0.044323971381654705),\n",
       " ('2012-11-10 00:00:00',\n",
       "  0.1568669580118948,\n",
       "  -0.1796186584254289,\n",
       "  -0.3394315229391844,\n",
       "  0.34671216238614144,\n",
       "  0.7634965680850477,\n",
       "  1.1605331554473164,\n",
       "  0.22081635785603562,\n",
       "  0.17717740581985422,\n",
       "  -1.2786667694377059,\n",
       "  0.17709058382804158),\n",
       " ('2012-11-11 00:00:00',\n",
       "  0.8360890501627605,\n",
       "  0.8947194430654972,\n",
       "  -0.9340848274897348,\n",
       "  0.7140747229980138,\n",
       "  0.596980062082541,\n",
       "  0.48416613934392244,\n",
       "  -1.3576144812317994,\n",
       "  1.3165102550543233,\n",
       "  1.8388566735435197,\n",
       "  -0.7446344666086202)]"
      ]
     },
     "execution_count": 29,
     "metadata": {},
     "output_type": "execute_result"
    }
   ],
   "source": [
    "cur.execute('SELECT * from test1')\n",
    "cur.fetchall()"
   ]
  },
  {
   "cell_type": "code",
   "execution_count": 30,
   "metadata": {},
   "outputs": [
    {
     "data": {
      "text/plain": [
       "<sqlite3.Cursor at 0x16b8f600180>"
      ]
     },
     "execution_count": 30,
     "metadata": {},
     "output_type": "execute_result"
    }
   ],
   "source": [
    "cur.execute('SELECT data ,A,B from \"test1\"')"
   ]
  },
  {
   "cell_type": "code",
   "execution_count": 33,
   "metadata": {},
   "outputs": [
    {
     "data": {
      "text/plain": [
       "[('day',), ('test1',)]"
      ]
     },
     "execution_count": 33,
     "metadata": {},
     "output_type": "execute_result"
    }
   ],
   "source": [
    "cur.fetchall()"
   ]
  },
  {
   "cell_type": "code",
   "execution_count": 34,
   "metadata": {},
   "outputs": [
    {
     "data": {
      "text/plain": [
       "<sqlite3.Cursor at 0x16b8f600180>"
      ]
     },
     "execution_count": 34,
     "metadata": {},
     "output_type": "execute_result"
    }
   ],
   "source": [
    "#\n",
    "cur.execute(\"SELECT tbl_name FROM sqlite_master WHERE type = 'table';\")"
   ]
  },
  {
   "cell_type": "code",
   "execution_count": 35,
   "metadata": {},
   "outputs": [
    {
     "data": {
      "text/plain": [
       "[('day',), ('test1',)]"
      ]
     },
     "execution_count": 35,
     "metadata": {},
     "output_type": "execute_result"
    }
   ],
   "source": [
    "cur.fetchall()"
   ]
  },
  {
   "cell_type": "code",
   "execution_count": 41,
   "metadata": {
    "scrolled": true
   },
   "outputs": [
    {
     "data": {
      "text/plain": [
       "[('CREATE TABLE \"test1\" (\\n\"data\" TIMESTAMP,\\n  \"A\" REAL,\\n  \"B\" REAL,\\n  \"C\" REAL,\\n  \"D\" REAL,\\n  \"E\" REAL,\\n  \"F\" REAL,\\n  \"G\" REAL,\\n  \"H\" REAL,\\n  \"I\" REAL,\\n  \"J\" REAL\\n)',)]"
      ]
     },
     "execution_count": 41,
     "metadata": {},
     "output_type": "execute_result"
    }
   ],
   "source": [
    "cur.execute(\"SELECT sql FROM sqlite_master WHERE type = 'table' AND tbl_name = 'test1'\")\n",
    "cur.fetchall()"
   ]
  }
 ],
 "metadata": {
  "kernelspec": {
   "display_name": "Python 3",
   "language": "python",
   "name": "python3"
  },
  "language_info": {
   "codemirror_mode": {
    "name": "ipython",
    "version": 3
   },
   "file_extension": ".py",
   "mimetype": "text/x-python",
   "name": "python",
   "nbconvert_exporter": "python",
   "pygments_lexer": "ipython3",
   "version": "3.6.1"
  }
 },
 "nbformat": 4,
 "nbformat_minor": 2
}
