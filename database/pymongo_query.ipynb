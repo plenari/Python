{
 "cells": [
  {
   "cell_type": "markdown",
   "metadata": {},
   "source": [
    "### 1.pymongo "
   ]
  },
  {
   "cell_type": "code",
   "execution_count": 2,
   "metadata": {},
   "outputs": [],
   "source": [
    "import sys\n",
    "import pandas as pd\n",
    "import json\n",
    "from pymongo import MongoClient"
   ]
  },
  {
   "cell_type": "code",
   "execution_count": 3,
   "metadata": {
    "collapsed": true
   },
   "outputs": [],
   "source": [
    "database='stocks'\n",
    "collection='price'\n",
    "class MongoBase:\n",
    "    def __init__(self,database,collection):\n",
    "        self.data=database\n",
    "        self.coll=collection\n",
    "        self.OpenDB()\n",
    "    def OpenDB(self):\n",
    "        '''\n",
    "        open or create database and collection\n",
    "        '''\n",
    "        user='******'\n",
    "        passwd='******'\n",
    "        host='******'\n",
    "        port='******'\n",
    "        auth_db='******'\n",
    "        #uri = \"mongodb://\"+user+\":\"+passwd+\"@\"+host+\":\"+port+\"/\"+auth_db+\"?authMechanism=SCRAM-SHA-1\"\n",
    "        self.Client = MongoClient('localhost',27017)#接口\n",
    "        self.db = self.Client[self.data]#数据库\n",
    "        self.collection=self.db[self.coll]#colle\n",
    "    def closeDB(self):\n",
    "        self.Client.close()"
   ]
  },
  {
   "cell_type": "code",
   "execution_count": 7,
   "metadata": {
    "collapsed": true
   },
   "outputs": [],
   "source": [
    "col=MongoBase(database,collection).collection"
   ]
  },
  {
   "cell_type": "code",
   "execution_count": 12,
   "metadata": {},
   "outputs": [
    {
     "name": "stdout",
     "output_type": "stream",
     "text": [
      "{'_id': ObjectId('5ab9ebe1b1ddee43444b9421'), 'open': 3.36, 'high': 3.41, 'close': 3.41, 'low': 3.31, 'volume': 36288.92, 'price_change': 0.01, 'p_change': 0.29, 'ma5': 3.53, 'ma10': 3.579, 'ma20': 3.602, 'v_ma5': 45378.39, 'v_ma10': 36493.33, 'v_ma20': 30986.53, 'turnover': 0.39, 'date': '2018-03-26', 'sid': '601616'}\n",
      "{'_id': ObjectId('5ab9ebe1b1ddee43444b9422'), 'open': 3.56, 'high': 3.57, 'close': 3.4, 'low': 3.4, 'volume': 65957.11, 'price_change': -0.24, 'p_change': -6.59, 'ma5': 3.574, 'ma10': 3.609, 'ma20': 3.609, 'v_ma5': 42502.8, 'v_ma10': 36477.81, 'v_ma20': 30922.89, 'turnover': 0.7, 'date': '2018-03-23', 'sid': '601616'}\n"
     ]
    }
   ],
   "source": [
    "for i in col.find().limit(2):\n",
    "    print(i)"
   ]
  },
  {
   "cell_type": "markdown",
   "metadata": {},
   "source": [
    "#### 1.  涨幅大于5%，代码等于000768，且日期大于2017-02-03且小于2018-01-01"
   ]
  },
  {
   "cell_type": "code",
   "execution_count": 20,
   "metadata": {},
   "outputs": [
    {
     "name": "stdout",
     "output_type": "stream",
     "text": [
      "{'date': '2017-08-04', 'sid': '000768'}\n",
      "{'date': '2017-04-11', 'sid': '000768'}\n"
     ]
    }
   ],
   "source": [
    "query={'p_change':{'$gt':5},'date':{'$gt':'2017-02-03','$lt':'2018-01-01'},'sid':'000768'}\n",
    "projection = {'_id':False, 'sid':1,'date':1}\n",
    "for i in col.find(query,projection):\n",
    "    print(i)"
   ]
  },
  {
   "cell_type": "markdown",
   "metadata": {},
   "source": [
    "#### 2.  涨幅大于5%，代码等于000768，或者日期大于2017-02-03"
   ]
  },
  {
   "cell_type": "code",
   "execution_count": 37,
   "metadata": {
    "scrolled": false
   },
   "outputs": [
    {
     "name": "stdout",
     "output_type": "stream",
     "text": [
      "{'date': '2018-03-26', 'sid': '000768'}\n",
      "{'date': '2018-02-27', 'sid': '000768'}\n",
      "{'date': '2018-02-02', 'sid': '601899'}\n",
      "{'date': '2018-01-25', 'sid': '601899'}\n",
      "{'date': '2017-12-28', 'sid': '601899'}\n"
     ]
    }
   ],
   "source": [
    "query={'p_change':{'$gt':5},'$or':[{'sid':'000768'},{'date':{'$lt':'2018-02-03'}}]}\n",
    "projection = {'_id':False, 'sid':1,'date':1}\n",
    "for i in col.find(query,projection).sort('date',-1).limit(5):\n",
    "    print(i)"
   ]
  },
  {
   "cell_type": "markdown",
   "metadata": {},
   "source": [
    "#### 3. in not in"
   ]
  },
  {
   "cell_type": "code",
   "execution_count": 47,
   "metadata": {},
   "outputs": [
    {
     "name": "stdout",
     "output_type": "stream",
     "text": [
      "{'date': '2018-03-26', 'sid': '000768'}\n"
     ]
    }
   ],
   "source": [
    "query={'p_change':{'$gt':5},'date':{'$in':['2018-03-26']}}\n",
    "projection = {'_id':False, 'sid':1,'date':1}\n",
    "for i in col.find(query,projection).sort('date',-1).limit(5):\n",
    "    print(i)"
   ]
  },
  {
   "cell_type": "code",
   "execution_count": 48,
   "metadata": {},
   "outputs": [
    {
     "name": "stdout",
     "output_type": "stream",
     "text": [
      "{'date': '2018-03-08', 'sid': '601899'}\n",
      "{'date': '2018-02-27', 'sid': '000768'}\n",
      "{'date': '2018-02-02', 'sid': '601899'}\n",
      "{'date': '2018-01-25', 'sid': '601899'}\n",
      "{'date': '2017-12-28', 'sid': '601899'}\n"
     ]
    }
   ],
   "source": [
    "query={'p_change':{'$gt':5},'date':{'$nin':['2018-03-26']}}\n",
    "projection = {'_id':False, 'sid':1,'date':1}\n",
    "for i in col.find(query,projection).sort('date',-1).limit(5):\n",
    "    print(i)"
   ]
  },
  {
   "cell_type": "code",
   "execution_count": 60,
   "metadata": {},
   "outputs": [
    {
     "name": "stdout",
     "output_type": "stream",
     "text": [
      "{'date': '2016-03-17', 'sid': '000768'}\n"
     ]
    }
   ],
   "source": [
    "query={'p_change':{'$all':[3]}}\n",
    "projection = {'_id':False, 'sid':1,'date':1}\n",
    "for i in col.find(query,projection).sort('date',-1).limit(5):\n",
    "    print(i)"
   ]
  },
  {
   "cell_type": "code",
   "execution_count": 62,
   "metadata": {},
   "outputs": [
    {
     "name": "stdout",
     "output_type": "stream",
     "text": [
      "{'date': '2018-03-26', 'sid': '601616'}\n",
      "{'date': '2018-03-26', 'sid': '000768'}\n",
      "{'date': '2018-03-26', 'sid': '300040'}\n",
      "{'date': '2018-03-26', 'sid': '601899'}\n",
      "{'date': '2018-03-23', 'sid': '601616'}\n"
     ]
    }
   ],
   "source": [
    "query={'p_change':{'$ne':None}}\n",
    "projection = {'_id':False, 'sid':1,'date':1}\n",
    "for i in col.find(query,projection).sort('date',-1).limit(5):\n",
    "    print(i)"
   ]
  },
  {
   "cell_type": "markdown",
   "metadata": {},
   "source": [
    "#### 4. 正则表达式"
   ]
  },
  {
   "cell_type": "code",
   "execution_count": 65,
   "metadata": {},
   "outputs": [
    {
     "name": "stdout",
     "output_type": "stream",
     "text": [
      "{'date': '2018-03-26', 'sid': '000768'}\n",
      "{'date': '2018-03-23', 'sid': '000768'}\n",
      "{'date': '2018-03-22', 'sid': '000768'}\n",
      "{'date': '2018-03-21', 'sid': '000768'}\n",
      "{'date': '2018-03-20', 'sid': '000768'}\n"
     ]
    }
   ],
   "source": [
    "query={'sid':{'$regex':'000[\\d]{3}'}}\n",
    "projection = {'_id':False, 'sid':1,'date':1}\n",
    "for i in col.find(query,projection).sort('date',-1).limit(5):\n",
    "    print(i)"
   ]
  },
  {
   "cell_type": "markdown",
   "metadata": {},
   "source": [
    "#### 5. 目标是一个数组可以用where"
   ]
  },
  {
   "cell_type": "raw",
   "metadata": {},
   "source": [
    "find({'priceLst.3': {'$exists': 1}})"
   ]
  },
  {
   "cell_type": "code",
   "execution_count": 78,
   "metadata": {},
   "outputs": [],
   "source": [
    "MongoBase(database,collection).closeDB()"
   ]
  }
 ],
 "metadata": {
  "kernelspec": {
   "display_name": "Python 3",
   "language": "python",
   "name": "python3"
  },
  "language_info": {
   "codemirror_mode": {
    "name": "ipython",
    "version": 3
   },
   "file_extension": ".py",
   "mimetype": "text/x-python",
   "name": "python",
   "nbconvert_exporter": "python",
   "pygments_lexer": "ipython3",
   "version": "3.6.1"
  }
 },
 "nbformat": 4,
 "nbformat_minor": 2
}
