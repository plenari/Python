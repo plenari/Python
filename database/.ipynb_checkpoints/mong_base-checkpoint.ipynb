{
 "cells": [
  {
   "cell_type": "markdown",
   "metadata": {},
   "source": [
    "### 1. windows install mongodb"
   ]
  },
  {
   "cell_type": "markdown",
   "metadata": {},
   "source": [
    "#### 1.1 start with mongo"
   ]
  },
  {
   "cell_type": "markdown",
   "metadata": {},
   "source": [
    "    1: mkdirs data\\db\n",
    "    2:start mongo server\n",
    "        mongod --dbpath c:\\data\\db\n",
    "    3:deal with mongo\n",
    "        another cmd : mongo "
   ]
  },
  {
   "cell_type": "markdown",
   "metadata": {},
   "source": [
    "#### 1.2 创建配置文件 mongod.cfg"
   ]
  },
  {
   "cell_type": "raw",
   "metadata": {},
   "source": [
    "    systemLog:\n",
    "        destination: file\n",
    "        path: d:\\data\\log\\mongod.log\n",
    "    storage:\n",
    "        dbPath: d:\\data\\db"
   ]
  },
  {
   "cell_type": "markdown",
   "metadata": {},
   "source": [
    "  ####      install config file \n",
    "        mongod.exe --config mongod.cfg --install"
   ]
  },
  {
   "cell_type": "markdown",
   "metadata": {},
   "source": [
    "#### 1.3 基本概念"
   ]
  },
  {
   "cell_type": "markdown",
   "metadata": {},
   "source": [
    "    Database 数据库(db)\n",
    "    collections 集合(tables)"
   ]
  },
  {
   "cell_type": "markdown",
   "metadata": {},
   "source": [
    "#### 1.4 基本操作"
   ]
  },
  {
   "cell_type": "raw",
   "metadata": {},
   "source": [
    " database:\n",
    "     show dbs\n",
    "     use dbname#create db\n",
    "     db.dropDatabase()#delete db\n",
    " collection:\n",
    "     show tables\n",
    "     db.createCollection(name, options)#\n",
    "     db.collection.drop()#delete collection\n",
    "     db.collection.remove()#empty collection\n",
    " "
   ]
  },
  {
   "cell_type": "markdown",
   "metadata": {},
   "source": [
    "##### 1.insert"
   ]
  },
  {
   "cell_type": "raw",
   "metadata": {},
   "source": [
    "db.COLLECTION_NAME.insert(document)"
   ]
  },
  {
   "cell_type": "markdown",
   "metadata": {},
   "source": [
    "##### 2.update"
   ]
  },
  {
   "cell_type": "raw",
   "metadata": {},
   "source": [
    "db.collection.update(\n",
    "   <query>,{}\n",
    "   <update>,{}\n",
    "   {\n",
    "     upsert: <boolean>,#如果不存在update的记录，是否插入objNew,true为插入\n",
    "     multi: <boolean>,#如果这个参数为true,就把按条件查出来多条记录全部更新。\n",
    "     writeConcern: <document>\n",
    "   }\n",
    ")\n",
    "for example :db.col.update({'title':'MongoDB 教程'},{$set:{'title':'MongoDB'}},{multi:true})"
   ]
  },
  {
   "cell_type": "markdown",
   "metadata": {},
   "source": [
    "##### 3.save"
   ]
  },
  {
   "cell_type": "raw",
   "metadata": {},
   "source": [
    "db.collection.save(\n",
    "   <document>,\n",
    "   {\n",
    "     writeConcern: <document>#抛出异常的级别。\n",
    "   }\n",
    ")"
   ]
  },
  {
   "cell_type": "markdown",
   "metadata": {},
   "source": [
    "##### 4.remove"
   ]
  },
  {
   "cell_type": "raw",
   "metadata": {},
   "source": [
    "db.collection.remove(\n",
    "   <query>,\n",
    "   {\n",
    "     justOne: <boolean>,#如果设为 true 或 1，则只删除一个文档。\n",
    "     writeConcern: <document>\n",
    "   }\n",
    ")"
   ]
  },
  {
   "cell_type": "markdown",
   "metadata": {},
   "source": [
    "##### 5. find"
   ]
  },
  {
   "cell_type": "raw",
   "metadata": {},
   "source": [
    "db.col.find({key1:value1, key2:value2}).pretty()"
   ]
  },
  {
   "cell_type": "raw",
   "metadata": {},
   "source": [
    "db.col.find(\n",
    "   {\n",
    "      $or: [\n",
    "         {key1: value1}, {key2:value2}\n",
    "      ]\n",
    "   }\n",
    ").pretty()"
   ]
  },
  {
   "cell_type": "raw",
   "metadata": {},
   "source": [
    "db.col.find({\"likes\": {$gt:50}, $or: [{\"by\": \"菜鸟教程\"},{\"title\": \"MongoDB 教程\"}]}).pretty()"
   ]
  },
  {
   "cell_type": "raw",
   "metadata": {},
   "source": [
    "db.collection.find(query, {_id:0, title: 1, by: 1}) // 正确"
   ]
  },
  {
   "cell_type": "markdown",
   "metadata": {},
   "source": [
    "##### 6. limit skip"
   ]
  },
  {
   "cell_type": "markdown",
   "metadata": {},
   "source": [
    "##### 7.sort"
   ]
  },
  {
   "cell_type": "raw",
   "metadata": {},
   "source": [
    "db.COLLECTION_NAME.find().sort({KEY:1})#ascending=True"
   ]
  }
 ],
 "metadata": {
  "kernelspec": {
   "display_name": "Python 3",
   "language": "python",
   "name": "python3"
  },
  "language_info": {
   "codemirror_mode": {
    "name": "ipython",
    "version": 3
   },
   "file_extension": ".py",
   "mimetype": "text/x-python",
   "name": "python",
   "nbconvert_exporter": "python",
   "pygments_lexer": "ipython3",
   "version": "3.6.1"
  }
 },
 "nbformat": 4,
 "nbformat_minor": 2
}
