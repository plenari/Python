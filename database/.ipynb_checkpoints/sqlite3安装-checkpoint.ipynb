{
 "cells": [
  {
   "cell_type": "markdown",
   "metadata": {},
   "source": [
    "下载 sqlite-tools-win32-\\*.zip 和 sqlite-dll-win32-\\*.zip 压缩文件。解压将得到 sqlite3.def、sqlite3.dll 和 sqlite3.exe 文件。添加到系统命令，即可打开。"
   ]
  },
  {
   "cell_type": "markdown",
   "metadata": {},
   "source": [
    "SQL 注释以两个连续的 \"-\" 字符，，以 \"/*\" 开始，并扩展至下一个 \"*/\" 字符对或直到输入结束"
   ]
  },
  {
   "cell_type": "markdown",
   "metadata": {},
   "source": [
    "### 1. SQLite 基础"
   ]
  },
  {
   "cell_type": "raw",
   "metadata": {},
   "source": [
    "所有的 SQLite 语句可以以任何关键字开始，如 SELECT、INSERT、UPDATE、DELETE、ALTER、DROP 等，所有的语句以分号（;）结束。"
   ]
  },
  {
   "cell_type": "markdown",
   "metadata": {},
   "source": [
    "#### 1.1.1 创建数据库\n",
    "    sqlite3 databasename.db\n",
    "#### 1. 1.2显示数据库\n",
    "    .databases\n",
    "#### 1.1.3退出\n",
    "    .quit\n",
    "#### 1.1.4dump\n",
    "    从数据库导入文本\n",
    "    sqlite3 testDB.db .dump > testDB.sql\n",
    "    从文本恢复到数据库\n",
    "    sqlite3 testDB.db > testDB.sql"
   ]
  },
  {
   "cell_type": "markdown",
   "metadata": {},
   "source": [
    "#### 1.2.1  创建表\n",
    "    下面是一个实例，它创建了一个 COMPANY 表，ID 作为主键，NOT NULL 的约束表示在表中创建纪录时这些字段不能为 NULL：\n",
    "     CREATE TABLE COMPANY(\n",
    "       ID INT PRIMARY KEY     NOT NULL,\n",
    "       NAME           TEXT    NOT NULL,\n",
    "       AGE            INT     NOT NULL,\n",
    "       ADDRESS        CHAR(50),\n",
    "       SALARY         REAL\n",
    "    );\n",
    "    我自己的一个实例：\n",
    "    create table price(id int primary key not null,name text not null);"
   ]
  },
  {
   "cell_type": "markdown",
   "metadata": {},
   "source": [
    "#### 1.2.2 删除表\n",
    "    .tables\n",
    "    DROP TABLE database_name.table_name;"
   ]
  },
  {
   "cell_type": "markdown",
   "metadata": {},
   "source": [
    "#### 1.3.1 数据库\n",
    "    ATTACH DATABASE 'DatabaseName' As 'Alias-Name';\n",
    "#### 1.3.2 分离数据库\n",
    "    DETACH DATABASE 'NAME';\n",
    "\n",
    "    "
   ]
  },
  {
   "cell_type": "markdown",
   "metadata": {},
   "source": [
    "### 2. SQL命令"
   ]
  },
  {
   "cell_type": "markdown",
   "metadata": {},
   "source": [
    "##### create"
   ]
  },
  {
   "cell_type": "raw",
   "metadata": {},
   "source": [
    "CREATE TABLE COMPANY(\n",
    "   ID INT PRIMARY KEY     NOT NULL,\n",
    "   NAME           TEXT    NOT NULL,\n",
    "   AGE            INT     NOT NULL,\n",
    "   ADDRESS        CHAR(50),\n",
    "   SALARY         REAL\n",
    ");"
   ]
  },
  {
   "cell_type": "markdown",
   "metadata": {},
   "source": [
    "##### insert \n",
    "    "
   ]
  },
  {
   "cell_type": "raw",
   "metadata": {},
   "source": [
    "INSERT INTO COMPANY (ID,NAME,AGE,ADDRESS,SALARY)\n",
    "VALUES (1, 'Paul', 32, 'California', 20000.00 );"
   ]
  },
  {
   "cell_type": "markdown",
   "metadata": {},
   "source": [
    "##### select \n",
    "    1. SELECT column1, column2, columnN FROM table_name;\n",
    "    格式化输出：\n",
    "     .header on\n",
    "     .mode column\n",
    "    2. 比较运算\n",
    "    SELECT * FROM COMPANY WHERE SALARY > 50000;\n"
   ]
  },
  {
   "cell_type": "markdown",
   "metadata": {},
   "source": [
    "##### 表达式\n",
    "    SELECT column1, column2, columnN \n",
    "    FROM table_name \n",
    "    WHERE [CONDITION | EXPRESSION];"
   ]
  },
  {
   "cell_type": "markdown",
   "metadata": {},
   "source": [
    "##### and  or\n",
    "    SELECT column1, column2, columnN \n",
    "    FROM table_name\n",
    "    WHERE [condition1] AND [condition2]...AND [conditionN];"
   ]
  },
  {
   "cell_type": "markdown",
   "metadata": {},
   "source": [
    "##### update\n",
    "    UPDATE table_name\n",
    "    SET column1 = value1, column2 = value2...., columnN = valueN\n",
    "    WHERE [condition];"
   ]
  },
  {
   "cell_type": "markdown",
   "metadata": {},
   "source": [
    "##### delete \n",
    "    DELETE FROM table_name\n",
    "    WHERE [condition];"
   ]
  },
  {
   "cell_type": "markdown",
   "metadata": {},
   "source": [
    "##### LIKE\n",
    "SQLite 的 LIKE 运算符是用来匹配通配符指定模式的文本值"
   ]
  },
  {
   "cell_type": "markdown",
   "metadata": {},
   "source": [
    "##### glob\n",
    "    SQLite 的 GLOB 运算符是用来匹配通配符指定模式的文本值\n",
    "    星号（*）代表零个、一个或多个数字或字符。问号（?）代表一个单一的数字或字符。这些符号可以被组合使用"
   ]
  },
  {
   "cell_type": "markdown",
   "metadata": {},
   "source": [
    "##### LIMIT"
   ]
  },
  {
   "cell_type": "markdown",
   "metadata": {},
   "source": [
    "##### order\n",
    "    SELECT column-list \n",
    "    FROM table_name \n",
    "    [WHERE condition] \n",
    "    [ORDER BY column1, column2, .. columnN] [ASC | DESC];"
   ]
  },
  {
   "cell_type": "markdown",
   "metadata": {},
   "source": [
    "##### group by \n",
    "    SELECT column-list\n",
    "    FROM table_name\n",
    "    WHERE [ conditions ]\n",
    "    GROUP BY column1, column2....columnN\n",
    "    ORDER BY column1, column2....columnN"
   ]
  },
  {
   "cell_type": "markdown",
   "metadata": {},
   "source": [
    "##### having \n",
    "    groupby 之后代替where"
   ]
  },
  {
   "cell_type": "markdown",
   "metadata": {},
   "source": [
    "##### Distinct\n",
    "    只获取一次记录"
   ]
  },
  {
   "cell_type": "code",
   "execution_count": null,
   "metadata": {
    "collapsed": true
   },
   "outputs": [],
   "source": []
  },
  {
   "cell_type": "markdown",
   "metadata": {},
   "source": [
    "## 附录"
   ]
  },
  {
   "cell_type": "markdown",
   "metadata": {},
   "source": [
    "#### SQLite ANALYZE 语句：\n",
    "    ANALYZE;\n",
    "    or\n",
    "    ANALYZE database_name;\n",
    "    or\n",
    "    ANALYZE database_name.table_name;\n",
    "####    SQLite AND/OR 子句：\n",
    "    SELECT column1, column2....columnN\n",
    "    FROM   table_name\n",
    "    WHERE  CONDITION-1 {AND|OR} CONDITION-2;\n",
    "####    SQLite ALTER TABLE 语句：\n",
    "    ALTER TABLE table_name ADD COLUMN column_def...;\n",
    "####    SQLite ALTER TABLE 语句（Rename）：\n",
    "    ALTER TABLE table_name RENAME TO new_table_name;\n",
    "####    SQLite ATTACH DATABASE 语句：\n",
    "    ATTACH DATABASE 'DatabaseName' As 'Alias-Name';\n",
    "####    SQLite BEGIN TRANSACTION 语句：\n",
    "    BEGIN;\n",
    "    or\n",
    "    BEGIN EXCLUSIVE TRANSACTION;\n",
    "####    SQLite BETWEEN 子句：\n",
    "    SELECT column1, column2....columnN\n",
    "    FROM   table_name\n",
    "    WHERE  column_name BETWEEN val-1 AND val-2;\n",
    "####    SQLite COMMIT 语句：\n",
    "    COMMIT;\n",
    "####    SQLite CREATE INDEX 语句：\n",
    "    CREATE INDEX index_name\n",
    "    ON table_name ( column_name COLLATE NOCASE );\n",
    " ####   SQLite CREATE UNIQUE INDEX 语句：\n",
    "     CREATE UNIQUE INDEX index_name\n",
    "     ON table_name ( column1, column2,...columnN);\n",
    "####    SQLite CREATE TABLE 语句：\n",
    "    CREATE TABLE table_name(\n",
    "       column1 datatype,\n",
    "       column2 datatype,\n",
    "       column3 datatype,\n",
    "       .....\n",
    "       columnN datatype,\n",
    "       PRIMARY KEY( one or more columns )\n",
    "    );\n",
    "####    SQLite CREATE TRIGGER 语句：\n",
    "    CREATE TRIGGER database_name.trigger_name \n",
    "    BEFORE INSERT ON table_name FOR EACH ROW\n",
    "    BEGIN \n",
    "       stmt1; \n",
    "       stmt2;\n",
    "       ....\n",
    "    END;\n",
    "#### SQLite CREATE VIEW 语句：\n",
    "    CREATE VIEW database_name.view_name  AS\n",
    "    SELECT statement....;\n",
    "####    SQLite CREATE VIRTUAL TABLE 语句：\n",
    "    CREATE VIRTUAL TABLE database_name.table_name USING weblog( access.log );\n",
    "    or\n",
    "    CREATE VIRTUAL TABLE database_name.table_name USING fts3( );\n",
    "####    SQLite COMMIT TRANSACTION 语句：\n",
    "    COMMIT;\n",
    "####    SQLite COUNT 子句：\n",
    "    SELECT COUNT(column_name)\n",
    "    FROM   table_name\n",
    "    WHERE  CONDITION;\n",
    "####    SQLite DELETE 语句：\n",
    "    DELETE FROM table_name\n",
    "    WHERE  {CONDITION};\n",
    "####    SQLite DETACH DATABASE 语句：\n",
    "    DETACH DATABASE 'Alias-Name';\n",
    "####    SQLite DISTINCT 子句：\n",
    "    SELECT DISTINCT column1, column2....columnN\n",
    "    FROM   table_name;\n",
    "####    SQLite DROP INDEX 语句：\n",
    "    DROP INDEX database_name.index_name;\n",
    "####    SQLite DROP TABLE 语句：\n",
    "    DROP TABLE database_name.table_name;\n",
    "####    SQLite DROP VIEW 语句：\n",
    "    DROP VIEW view_name;\n",
    "####    SQLite DROP TRIGGER 语句：\n",
    "    DROP TRIGGER trigger_name\n",
    "####    SQLite EXISTS 子句：\n",
    "    SELECT column1, column2....columnN\n",
    "    FROM   table_name\n",
    "    WHERE  column_name EXISTS (SELECT * FROM   table_name );\n",
    "####    SQLite EXPLAIN 语句：\n",
    "    EXPLAIN INSERT statement...;\n",
    "    or \n",
    "    EXPLAIN QUERY PLAN SELECT statement...;\n",
    "####    SQLite GLOB 子句：\n",
    "    SELECT column1, column2....columnN\n",
    "    FROM   table_name\n",
    "    WHERE  column_name GLOB { PATTERN };\n",
    "####    SQLite GROUP BY 子句：\n",
    "    SELECT SUM(column_name)\n",
    "    FROM   table_name\n",
    "    WHERE  CONDITION\n",
    "    GROUP BY column_name;\n",
    "####    SQLite HAVING 子句：\n",
    "    SELECT SUM(column_name)\n",
    "    FROM   table_name\n",
    "    WHERE  CONDITION\n",
    "    GROUP BY column_name\n",
    "    HAVING (arithematic function condition);\n",
    "####    SQLite INSERT INTO 语句：\n",
    "    INSERT INTO table_name( column1, column2....columnN)\n",
    "    VALUES ( value1, value2....valueN);\n",
    "####    SQLite IN 子句：\n",
    "    SELECT column1, column2....columnN\n",
    "    FROM   table_name\n",
    "    WHERE  column_name IN (val-1, val-2,...val-N);\n",
    "####    SQLite Like 子句：\n",
    "    SELECT column1, column2....columnN\n",
    "    FROM   table_name\n",
    "    WHERE  column_name LIKE { PATTERN };\n",
    "####    SQLite NOT IN 子句：\n",
    "    SELECT column1, column2....columnN\n",
    "    FROM   table_name\n",
    "    WHERE  column_name NOT IN (val-1, val-2,...val-N);\n",
    "####    SQLite ORDER BY 子句：\n",
    "    SELECT column1, column2....columnN\n",
    "    FROM   table_name\n",
    "    WHERE  CONDITION\n",
    "    ORDER BY column_name {ASC|DESC};\n",
    "####    SQLite PRAGMA 语句：\n",
    "    PRAGMA pragma_name;\n",
    "\n",
    "    For example:\n",
    "\n",
    "    PRAGMA page_size;\n",
    "    PRAGMA cache_size = 1024;\n",
    "    PRAGMA table_info(table_name);\n",
    "####    SQLite RELEASE SAVEPOINT 语句：\n",
    "    RELEASE savepoint_name;\n",
    "####    SQLite REINDEX 语句：\n",
    "    REINDEX collation_name;\n",
    "    REINDEX database_name.index_name;\n",
    "    REINDEX database_name.table_name;\n",
    "####    SQLite ROLLBACK 语句：\n",
    "    ROLLBACK;\n",
    "    or\n",
    "    ROLLBACK TO SAVEPOINT savepoint_name;\n",
    "####    SQLite SAVEPOINT 语句：\n",
    "    SAVEPOINT savepoint_name;\n",
    "####    SQLite SELECT 语句：\n",
    "    SELECT column1, column2....columnN\n",
    "    FROM   table_name;\n",
    "####    SQLite UPDATE 语句：\n",
    "    UPDATE table_name\n",
    "    SET column1 = value1, column2 = value2....columnN=valueN\n",
    "    [ WHERE  CONDITION ];\n",
    "####    SQLite VACUUM 语句：\n",
    "    SQLite VACUUM 语句：\n",
    "    VACUUM;\n",
    "####    SQLite WHERE 子句：\n",
    "    SELECT column1, column2....columnN\n",
    "    FROM   table_name\n",
    "    WHERE  CONDITION;"
   ]
  }
 ],
 "metadata": {
  "kernelspec": {
   "display_name": "Python 3",
   "language": "python",
   "name": "python3"
  },
  "language_info": {
   "codemirror_mode": {
    "name": "ipython",
    "version": 3
   },
   "file_extension": ".py",
   "mimetype": "text/x-python",
   "name": "python",
   "nbconvert_exporter": "python",
   "pygments_lexer": "ipython3",
   "version": "3.6.1"
  }
 },
 "nbformat": 4,
 "nbformat_minor": 2
}
