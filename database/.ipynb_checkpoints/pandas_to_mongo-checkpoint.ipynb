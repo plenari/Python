{
 "cells": [
  {
   "cell_type": "markdown",
   "metadata": {},
   "source": [
    "### pandas and pymongo"
   ]
  },
  {
   "cell_type": "code",
   "execution_count": 1,
   "metadata": {
    "collapsed": true
   },
   "outputs": [],
   "source": [
    "import tushare as ts\n",
    "import sys\n",
    "import pandas as pd\n",
    "import json\n",
    "from pymongo import MongoClient"
   ]
  },
  {
   "cell_type": "markdown",
   "metadata": {},
   "source": [
    "## get data"
   ]
  },
  {
   "cell_type": "code",
   "execution_count": 2,
   "metadata": {
    "collapsed": true
   },
   "outputs": [],
   "source": [
    "database='day'\n",
    "collection='price'\n",
    "\n",
    "def get_price(sid,st=None,ed=None):\n",
    "    '''\n",
    "    sid symbol id\n",
    "    return DataFrame,conclude sid and data in columns\n",
    "    '''\n",
    "    p=ts.get_hist_data(sid,st,ed)\n",
    "    p['date']=p.index.values\n",
    "    p['sid']=[sid]*p.shape[0]           \n",
    "    return p"
   ]
  },
  {
   "cell_type": "code",
   "execution_count": 3,
   "metadata": {
    "collapsed": true
   },
   "outputs": [],
   "source": [
    "class MongoBase:\n",
    "    def __init__(self,database,collection):\n",
    "        self.data=database\n",
    "        self.coll=collection\n",
    "        self.OpenDB()\n",
    "    def OpenDB(self):\n",
    "        '''\n",
    "        open or create database and collection\n",
    "        '''\n",
    "        user='******'\n",
    "        passwd='******'\n",
    "        host='******'\n",
    "        port='******'\n",
    "        auth_db='******'\n",
    "        #uri = \"mongodb://\"+user+\":\"+passwd+\"@\"+host+\":\"+port+\"/\"+auth_db+\"?authMechanism=SCRAM-SHA-1\"\n",
    "        self.Client = MongoClient('localhost',27017)#接口\n",
    "        self.db = self.Client[self.data]#数据库\n",
    "        self.collection=self.db[self.coll]#colle\n",
    "    def closeDB(self):\n",
    "        self.Client.close()"
   ]
  },
  {
   "cell_type": "code",
   "execution_count": 5,
   "metadata": {
    "collapsed": true,
    "scrolled": true
   },
   "outputs": [],
   "source": [
    "def save_pandas_to_mongo(sid,st=None,ed=None):\n",
    "    '''\n",
    "    '''\n",
    "    mongo=MongoBase(database,collection)\n",
    "    df=get_price(sid,st,ed)\n",
    "    mongo.collection.insert_many(json.loads(df.T.to_json()).values())\n",
    "    mongo.closeDB()"
   ]
  },
  {
   "cell_type": "markdown",
   "metadata": {},
   "source": [
    "#### save pandas to stock.price"
   ]
  },
  {
   "cell_type": "code",
   "execution_count": 6,
   "metadata": {
    "collapsed": true
   },
   "outputs": [],
   "source": [
    "for sid in ['601616','000768','300040','601899']:\n",
    "    save_pandas_to_mongo(sid)"
   ]
  },
  {
   "cell_type": "markdown",
   "metadata": {},
   "source": [
    "#### read mongo to pandas"
   ]
  },
  {
   "cell_type": "code",
   "execution_count": 10,
   "metadata": {
    "collapsed": true,
    "scrolled": true
   },
   "outputs": [],
   "source": [
    "def read_pands_from_mongo(query,projection):\n",
    "    mongo=MongoBase(database,collection)   \n",
    "    data=pd.DataFrame(list(mongo.collection.find(query,projection)))\n",
    "    mongo.closeDB()\n",
    "    del data['_id']\n",
    "    data.set_index('date',drop=True, append=False, inplace=True)\n",
    "    return data"
   ]
  },
  {
   "cell_type": "code",
   "execution_count": 19,
   "metadata": {},
   "outputs": [
    {
     "data": {
      "text/html": [
       "<div>\n",
       "<style>\n",
       "    .dataframe thead tr:only-child th {\n",
       "        text-align: right;\n",
       "    }\n",
       "\n",
       "    .dataframe thead th {\n",
       "        text-align: left;\n",
       "    }\n",
       "\n",
       "    .dataframe tbody tr th {\n",
       "        vertical-align: top;\n",
       "    }\n",
       "</style>\n",
       "<table border=\"1\" class=\"dataframe\">\n",
       "  <thead>\n",
       "    <tr style=\"text-align: right;\">\n",
       "      <th></th>\n",
       "      <th>open</th>\n",
       "      <th>sid</th>\n",
       "    </tr>\n",
       "    <tr>\n",
       "      <th>date</th>\n",
       "      <th></th>\n",
       "      <th></th>\n",
       "    </tr>\n",
       "  </thead>\n",
       "  <tbody>\n",
       "    <tr>\n",
       "      <th>2017-08-29</th>\n",
       "      <td>4.58</td>\n",
       "      <td>601616</td>\n",
       "    </tr>\n",
       "    <tr>\n",
       "      <th>2017-08-29</th>\n",
       "      <td>19.31</td>\n",
       "      <td>000768</td>\n",
       "    </tr>\n",
       "    <tr>\n",
       "      <th>2017-08-29</th>\n",
       "      <td>11.00</td>\n",
       "      <td>300040</td>\n",
       "    </tr>\n",
       "    <tr>\n",
       "      <th>2017-08-29</th>\n",
       "      <td>3.78</td>\n",
       "      <td>601899</td>\n",
       "    </tr>\n",
       "  </tbody>\n",
       "</table>\n",
       "</div>"
      ],
      "text/plain": [
       "             open     sid\n",
       "date                     \n",
       "2017-08-29   4.58  601616\n",
       "2017-08-29  19.31  000768\n",
       "2017-08-29  11.00  300040\n",
       "2017-08-29   3.78  601899"
      ]
     },
     "execution_count": 19,
     "metadata": {},
     "output_type": "execute_result"
    }
   ],
   "source": [
    "query = {'date':'2017-08-29'}\n",
    "projection={'date':1,'sid':1,'open':1}\n",
    "data=read_pands_from_mongo(query,projection)\n",
    "data.head()"
   ]
  },
  {
   "cell_type": "code",
   "execution_count": null,
   "metadata": {
    "collapsed": true
   },
   "outputs": [],
   "source": [
    "def clear_collection():\n",
    "    mongo=MongoBase(database,collection)\n",
    "    #query=\"{{},{sid:1,open:1}}\"\n",
    "    mongo.collection.delete_many({})\n",
    "    mongo.closeDB()\n",
    "clear_mongo()"
   ]
  }
 ],
 "metadata": {
  "kernelspec": {
   "display_name": "Python 3",
   "language": "python",
   "name": "python3"
  },
  "language_info": {
   "codemirror_mode": {
    "name": "ipython",
    "version": 3
   },
   "file_extension": ".py",
   "mimetype": "text/x-python",
   "name": "python",
   "nbconvert_exporter": "python",
   "pygments_lexer": "ipython3",
   "version": "3.6.1"
  }
 },
 "nbformat": 4,
 "nbformat_minor": 2
}
