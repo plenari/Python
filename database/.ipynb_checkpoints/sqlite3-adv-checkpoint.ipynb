{
 "cells": [
  {
   "cell_type": "code",
   "execution_count": 3,
   "metadata": {
    "collapsed": true
   },
   "outputs": [],
   "source": [
    "import numpy as np\n",
    "import sqlite3 as sql"
   ]
  },
  {
   "cell_type": "code",
   "execution_count": 4,
   "metadata": {},
   "outputs": [],
   "source": [
    "conn=sql.connect('test.db')#链接数据库。\n",
    "cur=conn.cursor()\n",
    "conn.close()"
   ]
  },
  {
   "cell_type": "raw",
   "metadata": {},
   "source": [
    "dir(conn)\n",
    " 'close',\n",
    " 'commit',\n",
    " 'create_aggregate',\n",
    " 'create_collation',\n",
    " 'create_function',\n",
    " 'cursor',\n",
    " 'enable_load_extension',\n",
    " 'execute',\n",
    " 'executemany',\n",
    " 'executescript',\n",
    " 'in_transaction',\n",
    " 'interrupt',\n",
    " 'isolation_level',\n",
    " 'iterdump',\n",
    " 'load_extension',\n",
    " 'rollback',\n",
    " 'row_factory',\n",
    " 'set_authorizer',\n",
    " 'set_progress_handler',\n",
    " 'set_trace_callback',\n",
    " 'text_factory',\n",
    " 'total_changes']"
   ]
  },
  {
   "cell_type": "raw",
   "metadata": {},
   "source": [
    "dir(cur)\n",
    " 'arraysize',\n",
    " 'close',\n",
    " 'connection',\n",
    " 'description',\n",
    " 'execute',\n",
    " 'executemany',\n",
    " 'executescript',\n",
    " 'fetchall',\n",
    " 'fetchmany',\n",
    " 'fetchone',\n",
    " 'lastrowid',\n",
    " 'row_factory',\n",
    " 'rowcount',\n",
    " 'setinputsizes',\n",
    " 'setoutputsize']"
   ]
  },
  {
   "cell_type": "raw",
   "metadata": {},
   "source": [
    "cur.close()\n",
    "cur.fetchall()"
   ]
  },
  {
   "cell_type": "markdown",
   "metadata": {},
   "source": [
    "#### 基本上两个方法差不多\n",
    "    关闭任何一个就可以了。\n",
    "    油标记录着当前的位置以及获取的东西，只有当真正获取的时候才获取出来\n"
   ]
  },
  {
   "cell_type": "markdown",
   "metadata": {},
   "source": [
    "#### 创建一个table"
   ]
  },
  {
   "cell_type": "code",
   "execution_count": 5,
   "metadata": {},
   "outputs": [],
   "source": [
    "conn=sql.connect('test.db')#链接数据库\n",
    "#sql.memory()在内存中打开一个。\n",
    "cur=conn.cursor()\n",
    "cur.execute('''CREATE TABLE COMPANY\n",
    "       (ID INT PRIMARY KEY     NOT NULL,\n",
    "       NAME           TEXT    NOT NULL,\n",
    "       AGE            INT     NOT NULL,\n",
    "       ADDRESS        CHAR(50),\n",
    "       SALARY         REAL);''')\n",
    "conn.commit()\n",
    "conn.close()"
   ]
  },
  {
   "cell_type": "markdown",
   "metadata": {},
   "source": [
    "#### insert "
   ]
  },
  {
   "cell_type": "code",
   "execution_count": 6,
   "metadata": {},
   "outputs": [
    {
     "name": "stdout",
     "output_type": "stream",
     "text": [
      "1\n"
     ]
    }
   ],
   "source": [
    "conn=sql.connect('test.db')\n",
    "c=conn.cursor()\n",
    "c.execute(\"INSERT INTO COMPANY (ID,NAME,AGE,ADDRESS,SALARY) \\\n",
    "      VALUES (1, 'Paul', 32, 'California', 20000.00 )\");\n",
    "\n",
    "c.execute(\"INSERT INTO COMPANY (ID,NAME,AGE,ADDRESS,SALARY) \\\n",
    "      VALUES (2, 'Allen', 25, 'Texas', 15000.00 )\");\n",
    "\n",
    "c.execute(\"INSERT INTO COMPANY (ID,NAME,AGE,ADDRESS,SALARY) \\\n",
    "      VALUES (3, 'Teddy', 23, 'Norway', 20000.00 )\");\n",
    "\n",
    "c.execute(\"INSERT INTO COMPANY (ID,NAME,AGE,ADDRESS,SALARY) \\\n",
    "      VALUES (4, 'Mark', 25, 'Rich-Mond ', 65000.00 )\")\n",
    "\n",
    "\n",
    "conn.commit()\n",
    "print(c.rowcount)\n",
    "conn.close()"
   ]
  },
  {
   "cell_type": "markdown",
   "metadata": {},
   "source": [
    "#### select"
   ]
  },
  {
   "cell_type": "code",
   "execution_count": 7,
   "metadata": {},
   "outputs": [
    {
     "name": "stdout",
     "output_type": "stream",
     "text": [
      "id= 1 Paul California\n",
      "id= 2 Allen Texas\n",
      "id= 3 Teddy Norway\n",
      "id= 4 Mark Rich-Mond \n"
     ]
    }
   ],
   "source": [
    "conn=sql.connect('test.db')\n",
    "c=conn.cursor()\n",
    "cursor=c.execute('SELECT id,name,address, salary from COMPANY')\n",
    "for row in cursor:\n",
    "    print('id=',row[0],row[1],row[2])\n",
    "conn.close()"
   ]
  },
  {
   "cell_type": "markdown",
   "metadata": {},
   "source": [
    "#### update company set name='xsj' where id=1"
   ]
  },
  {
   "cell_type": "code",
   "execution_count": 9,
   "metadata": {},
   "outputs": [
    {
     "name": "stdout",
     "output_type": "stream",
     "text": [
      "(1, 'California', 25.0)\n",
      "(2, 'Texas', 15000.0)\n",
      "(3, 'Norway', 20000.0)\n",
      "(4, 'Rich-Mond ', 65000.0)\n"
     ]
    },
    {
     "data": {
      "text/plain": [
       "<function Connection.close>"
      ]
     },
     "execution_count": 9,
     "metadata": {},
     "output_type": "execute_result"
    }
   ],
   "source": [
    "conn=sql.connect('test.db')\n",
    "c=conn.cursor()\n",
    "c.execute('UPDATE COMPANY set SALARY=25.0000 where ID=1')\n",
    "conn.commit()\n",
    "cursor=conn.execute('SELEct id name, address ,salary from COMPANY')\n",
    "for row in cursor:\n",
    "    print(row)\n",
    "conn.close"
   ]
  },
  {
   "cell_type": "markdown",
   "metadata": {},
   "source": [
    "#### delete "
   ]
  },
  {
   "cell_type": "code",
   "execution_count": 11,
   "metadata": {
    "collapsed": true
   },
   "outputs": [],
   "source": [
    "conn=sql.connect('test.db')\n",
    "c=conn.cursor()\n",
    "c.execute('delete from company where id=2')\n",
    "#c.execute('delete from company')\n",
    "conn.commit()\n",
    "conn.close()\n"
   ]
  },
  {
   "cell_type": "code",
   "execution_count": 14,
   "metadata": {},
   "outputs": [
    {
     "name": "stdout",
     "output_type": "stream",
     "text": [
      "(1, 'Paul', 'California', 25.0)\n",
      "(3, 'Teddy', 'Norway', 20000.0)\n",
      "(4, 'Mark', 'Rich-Mond ', 65000.0)\n"
     ]
    }
   ],
   "source": [
    "conn=sql.connect('test.db')\n",
    "c=conn.cursor()\n",
    "c=c.execute('SELECT id,name,address, salary from COMPANY')\n",
    "for row in c:\n",
    "    print(row)\n",
    "conn.close()"
   ]
  },
  {
   "cell_type": "markdown",
   "metadata": {},
   "source": [
    "#### 删除一个table"
   ]
  },
  {
   "cell_type": "raw",
   "metadata": {},
   "source": [
    "conn=sql.connect('test.db')\n",
    "cur=conn.cursor()\n",
    "cursor=cur.execute('SELEct id name, address ,salary from COMPANY')\n",
    "for row in cursor:\n",
    "    print(row)\n",
    "conn.close"
   ]
  },
  {
   "cell_type": "markdown",
   "metadata": {},
   "source": [
    "### pandas to sql"
   ]
  },
  {
   "cell_type": "code",
   "execution_count": 19,
   "metadata": {},
   "outputs": [],
   "source": [
    "import pandas as pd\n",
    "#pd.DataFrame.to_sql(self, name, con, flavor=None, schema=None, if_exists='fail', index=True, index_label=None, chunksize=None, dtype=None)"
   ]
  },
  {
   "cell_type": "code",
   "execution_count": 21,
   "metadata": {},
   "outputs": [
    {
     "data": {
      "text/html": [
       "<div>\n",
       "<style>\n",
       "    .dataframe thead tr:only-child th {\n",
       "        text-align: right;\n",
       "    }\n",
       "\n",
       "    .dataframe thead th {\n",
       "        text-align: left;\n",
       "    }\n",
       "\n",
       "    .dataframe tbody tr th {\n",
       "        vertical-align: top;\n",
       "    }\n",
       "</style>\n",
       "<table border=\"1\" class=\"dataframe\">\n",
       "  <thead>\n",
       "    <tr style=\"text-align: right;\">\n",
       "      <th></th>\n",
       "      <th>A</th>\n",
       "      <th>B</th>\n",
       "      <th>C</th>\n",
       "      <th>D</th>\n",
       "      <th>E</th>\n",
       "      <th>F</th>\n",
       "      <th>G</th>\n",
       "      <th>H</th>\n",
       "      <th>I</th>\n",
       "      <th>J</th>\n",
       "    </tr>\n",
       "  </thead>\n",
       "  <tbody>\n",
       "    <tr>\n",
       "      <th>2012-11-02</th>\n",
       "      <td>-0.495632</td>\n",
       "      <td>-0.071608</td>\n",
       "      <td>-1.045875</td>\n",
       "      <td>-0.265248</td>\n",
       "      <td>-0.597992</td>\n",
       "      <td>-1.238361</td>\n",
       "      <td>0.040798</td>\n",
       "      <td>-2.103949</td>\n",
       "      <td>-2.139762</td>\n",
       "      <td>-0.919412</td>\n",
       "    </tr>\n",
       "    <tr>\n",
       "      <th>2012-11-03</th>\n",
       "      <td>-0.410644</td>\n",
       "      <td>2.150233</td>\n",
       "      <td>-0.119713</td>\n",
       "      <td>-0.668981</td>\n",
       "      <td>0.092262</td>\n",
       "      <td>-1.256823</td>\n",
       "      <td>-1.667439</td>\n",
       "      <td>-0.811156</td>\n",
       "      <td>-0.812454</td>\n",
       "      <td>-1.435065</td>\n",
       "    </tr>\n",
       "    <tr>\n",
       "      <th>2012-11-04</th>\n",
       "      <td>0.715904</td>\n",
       "      <td>-0.680826</td>\n",
       "      <td>-1.931398</td>\n",
       "      <td>-0.622511</td>\n",
       "      <td>0.120966</td>\n",
       "      <td>0.288117</td>\n",
       "      <td>-0.822296</td>\n",
       "      <td>-0.398314</td>\n",
       "      <td>0.989119</td>\n",
       "      <td>0.546260</td>\n",
       "    </tr>\n",
       "    <tr>\n",
       "      <th>2012-11-05</th>\n",
       "      <td>1.572608</td>\n",
       "      <td>-0.570744</td>\n",
       "      <td>-0.124014</td>\n",
       "      <td>0.092720</td>\n",
       "      <td>0.842912</td>\n",
       "      <td>1.911122</td>\n",
       "      <td>-0.714218</td>\n",
       "      <td>0.315193</td>\n",
       "      <td>-0.074413</td>\n",
       "      <td>1.052270</td>\n",
       "    </tr>\n",
       "    <tr>\n",
       "      <th>2012-11-06</th>\n",
       "      <td>-2.068925</td>\n",
       "      <td>0.203234</td>\n",
       "      <td>0.297545</td>\n",
       "      <td>0.171454</td>\n",
       "      <td>-0.059864</td>\n",
       "      <td>0.575762</td>\n",
       "      <td>-1.094246</td>\n",
       "      <td>0.271690</td>\n",
       "      <td>0.137418</td>\n",
       "      <td>-0.544561</td>\n",
       "    </tr>\n",
       "  </tbody>\n",
       "</table>\n",
       "</div>"
      ],
      "text/plain": [
       "                   A         B         C         D         E         F  \\\n",
       "2012-11-02 -0.495632 -0.071608 -1.045875 -0.265248 -0.597992 -1.238361   \n",
       "2012-11-03 -0.410644  2.150233 -0.119713 -0.668981  0.092262 -1.256823   \n",
       "2012-11-04  0.715904 -0.680826 -1.931398 -0.622511  0.120966  0.288117   \n",
       "2012-11-05  1.572608 -0.570744 -0.124014  0.092720  0.842912  1.911122   \n",
       "2012-11-06 -2.068925  0.203234  0.297545  0.171454 -0.059864  0.575762   \n",
       "\n",
       "                   G         H         I         J  \n",
       "2012-11-02  0.040798 -2.103949 -2.139762 -0.919412  \n",
       "2012-11-03 -1.667439 -0.811156 -0.812454 -1.435065  \n",
       "2012-11-04 -0.822296 -0.398314  0.989119  0.546260  \n",
       "2012-11-05 -0.714218  0.315193 -0.074413  1.052270  \n",
       "2012-11-06 -1.094246  0.271690  0.137418 -0.544561  "
      ]
     },
     "execution_count": 21,
     "metadata": {},
     "output_type": "execute_result"
    }
   ],
   "source": [
    "data=np.random.randn(10,10)\n",
    "df=pd.DataFrame(data,index=pd.date_range('2012-11-2',freq='D',periods=10),columns=list('ABCDEFGHIJ'))\n",
    "df.head()"
   ]
  },
  {
   "cell_type": "code",
   "execution_count": 23,
   "metadata": {},
   "outputs": [],
   "source": [
    "conn=sql.connect('test.db')\n",
    "df.to_sql('df',conn)\n",
    "conn.commit()\n",
    "conn.close()"
   ]
  },
  {
   "cell_type": "code",
   "execution_count": 24,
   "metadata": {},
   "outputs": [
    {
     "name": "stdout",
     "output_type": "stream",
     "text": [
      "(-0.49563175562495293, -0.07160790050304792, -1.0458750794763245)\n",
      "(-0.41064443722834343, 2.1502332088567115, -0.11971282378666936)\n",
      "(0.7159042303037532, -0.6808262584891667, -1.9313984067871397)\n",
      "(1.5726081538298247, -0.5707444140775886, -0.12401425798045583)\n",
      "(-2.0689245388083526, 0.20323447553716342, 0.29754456245883903)\n",
      "(1.0417870191511283, -0.26249916137624374, -2.4327776581384506)\n",
      "(0.1411724284107741, 0.6437071227829332, 0.7202989633452224)\n",
      "(-0.41613900437403173, -0.4739302597021167, -0.7453598517930285)\n",
      "(-0.6646408783443863, -1.4786925409565501, 0.22936282765996266)\n",
      "(-0.1590197820620114, 0.5344596472716421, -0.14231854936434862)\n"
     ]
    },
    {
     "data": {
      "text/plain": [
       "<function Connection.close>"
      ]
     },
     "execution_count": 24,
     "metadata": {},
     "output_type": "execute_result"
    }
   ],
   "source": [
    "conn=sql.connect('test.db')\n",
    "cursor=conn.execute('SELEct  A,B,C from df')\n",
    "for row in cursor:\n",
    "    print(row)\n",
    "conn.close"
   ]
  },
  {
   "cell_type": "markdown",
   "metadata": {
    "collapsed": true
   },
   "source": [
    "## how to get the datetime"
   ]
  },
  {
   "cell_type": "code",
   "execution_count": 25,
   "metadata": {},
   "outputs": [
    {
     "data": {
      "text/html": [
       "<div>\n",
       "<style>\n",
       "    .dataframe thead tr:only-child th {\n",
       "        text-align: right;\n",
       "    }\n",
       "\n",
       "    .dataframe thead th {\n",
       "        text-align: left;\n",
       "    }\n",
       "\n",
       "    .dataframe tbody tr th {\n",
       "        vertical-align: top;\n",
       "    }\n",
       "</style>\n",
       "<table border=\"1\" class=\"dataframe\">\n",
       "  <thead>\n",
       "    <tr style=\"text-align: right;\">\n",
       "      <th></th>\n",
       "      <th>A</th>\n",
       "      <th>B</th>\n",
       "      <th>C</th>\n",
       "      <th>D</th>\n",
       "      <th>E</th>\n",
       "      <th>F</th>\n",
       "      <th>G</th>\n",
       "      <th>H</th>\n",
       "      <th>I</th>\n",
       "      <th>J</th>\n",
       "      <th>data</th>\n",
       "    </tr>\n",
       "  </thead>\n",
       "  <tbody>\n",
       "    <tr>\n",
       "      <th>2012-11-02</th>\n",
       "      <td>-0.495632</td>\n",
       "      <td>-0.071608</td>\n",
       "      <td>-1.045875</td>\n",
       "      <td>-0.265248</td>\n",
       "      <td>-0.597992</td>\n",
       "      <td>-1.238361</td>\n",
       "      <td>0.040798</td>\n",
       "      <td>-2.103949</td>\n",
       "      <td>-2.139762</td>\n",
       "      <td>-0.919412</td>\n",
       "      <td>2012-11-02</td>\n",
       "    </tr>\n",
       "    <tr>\n",
       "      <th>2012-11-03</th>\n",
       "      <td>-0.410644</td>\n",
       "      <td>2.150233</td>\n",
       "      <td>-0.119713</td>\n",
       "      <td>-0.668981</td>\n",
       "      <td>0.092262</td>\n",
       "      <td>-1.256823</td>\n",
       "      <td>-1.667439</td>\n",
       "      <td>-0.811156</td>\n",
       "      <td>-0.812454</td>\n",
       "      <td>-1.435065</td>\n",
       "      <td>2012-11-03</td>\n",
       "    </tr>\n",
       "    <tr>\n",
       "      <th>2012-11-04</th>\n",
       "      <td>0.715904</td>\n",
       "      <td>-0.680826</td>\n",
       "      <td>-1.931398</td>\n",
       "      <td>-0.622511</td>\n",
       "      <td>0.120966</td>\n",
       "      <td>0.288117</td>\n",
       "      <td>-0.822296</td>\n",
       "      <td>-0.398314</td>\n",
       "      <td>0.989119</td>\n",
       "      <td>0.546260</td>\n",
       "      <td>2012-11-04</td>\n",
       "    </tr>\n",
       "    <tr>\n",
       "      <th>2012-11-05</th>\n",
       "      <td>1.572608</td>\n",
       "      <td>-0.570744</td>\n",
       "      <td>-0.124014</td>\n",
       "      <td>0.092720</td>\n",
       "      <td>0.842912</td>\n",
       "      <td>1.911122</td>\n",
       "      <td>-0.714218</td>\n",
       "      <td>0.315193</td>\n",
       "      <td>-0.074413</td>\n",
       "      <td>1.052270</td>\n",
       "      <td>2012-11-05</td>\n",
       "    </tr>\n",
       "    <tr>\n",
       "      <th>2012-11-06</th>\n",
       "      <td>-2.068925</td>\n",
       "      <td>0.203234</td>\n",
       "      <td>0.297545</td>\n",
       "      <td>0.171454</td>\n",
       "      <td>-0.059864</td>\n",
       "      <td>0.575762</td>\n",
       "      <td>-1.094246</td>\n",
       "      <td>0.271690</td>\n",
       "      <td>0.137418</td>\n",
       "      <td>-0.544561</td>\n",
       "      <td>2012-11-06</td>\n",
       "    </tr>\n",
       "  </tbody>\n",
       "</table>\n",
       "</div>"
      ],
      "text/plain": [
       "                   A         B         C         D         E         F  \\\n",
       "2012-11-02 -0.495632 -0.071608 -1.045875 -0.265248 -0.597992 -1.238361   \n",
       "2012-11-03 -0.410644  2.150233 -0.119713 -0.668981  0.092262 -1.256823   \n",
       "2012-11-04  0.715904 -0.680826 -1.931398 -0.622511  0.120966  0.288117   \n",
       "2012-11-05  1.572608 -0.570744 -0.124014  0.092720  0.842912  1.911122   \n",
       "2012-11-06 -2.068925  0.203234  0.297545  0.171454 -0.059864  0.575762   \n",
       "\n",
       "                   G         H         I         J       data  \n",
       "2012-11-02  0.040798 -2.103949 -2.139762 -0.919412 2012-11-02  \n",
       "2012-11-03 -1.667439 -0.811156 -0.812454 -1.435065 2012-11-03  \n",
       "2012-11-04 -0.822296 -0.398314  0.989119  0.546260 2012-11-04  \n",
       "2012-11-05 -0.714218  0.315193 -0.074413  1.052270 2012-11-05  \n",
       "2012-11-06 -1.094246  0.271690  0.137418 -0.544561 2012-11-06  "
      ]
     },
     "execution_count": 25,
     "metadata": {},
     "output_type": "execute_result"
    }
   ],
   "source": [
    "df['data']=df.index\n",
    "df.head()"
   ]
  },
  {
   "cell_type": "code",
   "execution_count": 27,
   "metadata": {},
   "outputs": [
    {
     "name": "stdout",
     "output_type": "stream",
     "text": [
      "('2012-11-02 00:00:00', -0.49563175562495293, -0.07160790050304792, -1.0458750794763245)\n",
      "('2012-11-03 00:00:00', -0.41064443722834343, 2.1502332088567115, -0.11971282378666936)\n",
      "('2012-11-04 00:00:00', 0.7159042303037532, -0.6808262584891667, -1.9313984067871397)\n",
      "('2012-11-05 00:00:00', 1.5726081538298247, -0.5707444140775886, -0.12401425798045583)\n",
      "('2012-11-06 00:00:00', -2.0689245388083526, 0.20323447553716342, 0.29754456245883903)\n",
      "('2012-11-07 00:00:00', 1.0417870191511283, -0.26249916137624374, -2.4327776581384506)\n",
      "('2012-11-08 00:00:00', 0.1411724284107741, 0.6437071227829332, 0.7202989633452224)\n",
      "('2012-11-09 00:00:00', -0.41613900437403173, -0.4739302597021167, -0.7453598517930285)\n",
      "('2012-11-10 00:00:00', -0.6646408783443863, -1.4786925409565501, 0.22936282765996266)\n",
      "('2012-11-11 00:00:00', -0.1590197820620114, 0.5344596472716421, -0.14231854936434862)\n"
     ]
    }
   ],
   "source": [
    "conn=sql.connect('test.db')\n",
    "#conn.execute('DROP table rand3')\n",
    "df.to_sql('rand3',conn)\n",
    "conn.commit()\n",
    "cursor=conn.execute('SELEct data, A,B,C from rand3')\n",
    "for row in cursor:\n",
    "    print(row)\n",
    "conn.close()"
   ]
  }
 ],
 "metadata": {
  "kernelspec": {
   "display_name": "Python 3",
   "language": "python",
   "name": "python3"
  },
  "language_info": {
   "codemirror_mode": {
    "name": "ipython",
    "version": 3
   },
   "file_extension": ".py",
   "mimetype": "text/x-python",
   "name": "python",
   "nbconvert_exporter": "python",
   "pygments_lexer": "ipython3",
   "version": "3.6.1"
  }
 },
 "nbformat": 4,
 "nbformat_minor": 2
}
