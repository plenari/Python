{
 "cells": [
  {
   "cell_type": "markdown",
   "metadata": {},
   "source": [
    "### 1. mongo"
   ]
  },
  {
   "cell_type": "markdown",
   "metadata": {},
   "source": [
    "    ensureIndex() 方法\n",
    "    db.COLLECTION_NAME.ensureIndex({KEY:1})\n",
    "    语法中 Key 值为你要创建的索引字段，1为指定按升序创建索引，如果你想按降序来创建索引指定为-1即可。"
   ]
  },
  {
   "cell_type": "markdown",
   "metadata": {},
   "source": [
    "    aggregate() 方法\n",
    "    db.COLLECTION_NAME.aggregate(AGGREGATE_OPERATION)\n",
    "    求每只股票的收盘价之和\n",
    "    db.price.aggregate([{$group:{_id:'$sid',n:{$sum:'$open'}}}])"
   ]
  },
  {
   "cell_type": "raw",
   "metadata": {},
   "source": [
    "这里我们介绍一下聚合框架中常用的几个操作：(类似于groupby.apply)\n",
    "\n",
    "$project：修改输入文档的结构。可以用来重命名、增加或删除域，也可以用于创建计算结果以及嵌套文档。\n",
    "$match：用于过滤数据，只输出符合条件的文档。$match使用MongoDB的标准查询操作。\n",
    "$limit：用来限制MongoDB聚合管道返回的文档数。\n",
    "$skip：在聚合管道中跳过指定数量的文档，并返回余下的文档。\n",
    "$unwind：将文档中的某一个数组类型字段拆分成多条，每条包含数组中的一个值。\n",
    "$group：将集合中的文档分组，可用于统计结果。\n",
    "$sort：将输入文档排序后输出。\n",
    "$geoNear：输出接近某一地理位置的有序文档。\n"
   ]
  },
  {
   "cell_type": "raw",
   "metadata": {},
   "source": [
    "求开盘价在7-9，然后按sid 分组，计数\n",
    "db.price.aggregate([{$match:{open:{ $gt :7,$lte:9}}},{$group:{_id:\"$sid\",n:{$sum:1}}}])"
   ]
  },
  {
   "cell_type": "markdown",
   "metadata": {},
   "source": [
    "### 2. MongoDB复制原理\n",
    "mongodb的复制至少需要两个节点。其中一个是主节点，负责处理客户端请求，其余的都是从节点，负责复制主节点上的数据。\n",
    "mongodb各个节点常见的搭配方式为：一主一从、一主多从。"
   ]
  },
  {
   "cell_type": "markdown",
   "metadata": {},
   "source": [
    "### 3. MongoDB 监控"
   ]
  },
  {
   "cell_type": "raw",
   "metadata": {},
   "source": [
    "    mongotop\n",
    "    mongostat\n",
    "    mongotop --locks #报告每个数据库的锁的使用中，使用mongotop - 锁，"
   ]
  },
  {
   "cell_type": "markdown",
   "metadata": {},
   "source": [
    "# MongoDB 高级"
   ]
  },
  {
   "cell_type": "markdown",
   "metadata": {},
   "source": [
    "    1. 引用\n",
    "        DBRefs vs 手动引用"
   ]
  },
  {
   "cell_type": "raw",
   "metadata": {},
   "source": [
    "DBRef的形式：\n",
    "\n",
    "{ $ref : , $id : , $db :  }\n",
    "三个字段表示的意义为：\n",
    "\n",
    "$ref：集合名称\n",
    "$id：引用的id\n",
    "$db:数据库名称，可选参数"
   ]
  },
  {
   "cell_type": "raw",
   "metadata": {},
   "source": [
    "{\n",
    "   \"_id\":ObjectId(\"53402597d852426020000002\"),\n",
    "   \"address\": {\n",
    "   \"$ref\": \"col\",\n",
    "   \"$id\": ObjectId(\"534009e4d852427820000002\"),\n",
    "   \"$db\": \"test\"},\n",
    "   \"contact\": \"987654321\",\n",
    "   \"dob\": \"01-01-1991\",\n",
    "   \"name\": \"Tom Benzamin\"\n",
    "}\n",
    "address DBRef 字段指定了引用的地址文档是在 runoob 数据库下的 address_home 集合，id 为 534009e4d852427820000002"
   ]
  },
  {
   "cell_type": "raw",
   "metadata": {},
   "source": [
    "var user = db.users.findOne({\"name\":\"Tom Benzamin\"})\n",
    "var dbRef = user.address#\n",
    "## 变量引用需要加上$\n",
    "db[dbRef.$ref].findOne({\"_id\":(dbRef.$id)})"
   ]
  },
  {
   "cell_type": "markdown",
   "metadata": {},
   "source": [
    "    覆盖索引查询\n",
    "    1. 所有的查询字段是索引的一部分\n",
    "    2. 所有的查询返回字段在同一个索引中\n",
    "    最后，如果是以下的查询，不能使用覆盖索引查询：\n",
    "        所有索引字段是一个数组"
   ]
  },
  {
   "cell_type": "markdown",
   "metadata": {},
   "source": [
    "    查询分析\n",
    "    explain()\n",
    "    db.users.find({gender:\"M\"},{user_name:1,_id:0}).explain()\n",
    "    hint()\n",
    "    虽然MongoDB查询优化器一般工作的很不错，但是也可以使用 hint 来强制 MongoDB 使用一个指定的索引。\n",
    "    这种方法某些情形下会提升性能。 一个有索引的 collection 并且执行一个多字段的查询(一些字段已经索引了)。\n",
    "    如下查询实例指定了使用 gender 和 user_name 索引字段来查询：\n",
    "    db.col.find({gender:\"M\"},{user_name:1,_id:0}).hint({gender:1,user_name:1})"
   ]
  },
  {
   "cell_type": "markdown",
   "metadata": {},
   "source": [
    "MongoDB 原子操作"
   ]
  },
  {
   "cell_type": "raw",
   "metadata": {},
   "source": [
    "图书馆的书籍及结账信息。\n",
    "book = {\n",
    "          _id: 123456789,\n",
    "          title: \"MongoDB: The Definitive Guide\",\n",
    "          author: [ \"Kristina Chodorow\", \"Mike Dirolf\" ],\n",
    "          published_date: ISODate(\"2010-09-24\"),\n",
    "          pages: 216,\n",
    "          language: \"English\",\n",
    "          publisher_id: \"oreilly\",\n",
    "          available: 3,\n",
    "          checkout: [ { by: \"joe\", date: ISODate(\"2012-10-15\") } ]\n",
    "        }"
   ]
  },
  {
   "cell_type": "raw",
   "metadata": {},
   "source": [
    "db.collection.findAndModify() 方法来判断书籍是否可结算并更新新的结算信息\n",
    "db.col.findAndModify ( {\n",
    "   query: {\n",
    "            _id: 123456789,\n",
    "            available: { $gt: 0 }\n",
    "          },\n",
    "   update: {\n",
    "             $inc: { available: -1 },\n",
    "             $push: { checkout: { by: \"abc\", date: new Date() } }\n",
    "           }\n",
    "} )"
   ]
  },
  {
   "cell_type": "raw",
   "metadata": {},
   "source": [
    "原子操作常用命令\n",
    "$set\n",
    "用来指定一个键并更新键值，若键不存在并创建。\n",
    "\n",
    "{ $set : { field : value } }\n",
    "$unset\n",
    "用来删除一个键。\n",
    "\n",
    "{ $unset : { field : 1} }\n",
    "$inc\n",
    "$inc可以对文档的某个值为数字型（只能为满足要求的数字）的键进行增减的操作。\n",
    "\n",
    "{ $inc : { field : value } }\n",
    "$push\n",
    "用法：\n",
    "\n",
    "{ $push : { field : value } }\n",
    "把value追加到field里面去，field一定要是数组类型才行，如果field不存在，会新增一个数组类型加进去。\n",
    "\n",
    "$pushAll\n",
    "同$push,只是一次可以追加多个值到一个数组字段内。\n",
    "\n",
    "{ $pushAll : { field : value_array } }\n",
    "$pull\n",
    "从数组field内删除一个等于value值。\n",
    "\n",
    "{ $pull : { field : _value } }\n",
    "$addToSet\n",
    "增加一个值到数组内，而且只有当这个值不在数组内才增加。\n",
    "\n",
    "$pop\n",
    "删除数组的第一个或最后一个元素\n",
    "\n",
    "{ $pop : { field : 1 } }\n",
    "$rename\n",
    "修改字段名称\n",
    "\n",
    "{ $rename : { old_field_name : new_field_name } }\n",
    "$bit\n",
    "位操作，integer类型\n",
    "\n",
    "{$bit : { field : {and : 5}}}"
   ]
  },
  {
   "cell_type": "raw",
   "metadata": {},
   "source": [
    "db.col.findAndModify ( {\n",
    "   query: {\n",
    "            _id: 123456789,\n",
    "            \n",
    "          },\n",
    "   update: {\n",
    "             $set: {available: 4},\n",
    "\n",
    "           }\n",
    "} )"
   ]
  },
  {
   "cell_type": "markdown",
   "metadata": {},
   "source": [
    "    MongoDB 高级索引\n",
    "    可以直接索引子文档\n",
    "    db.users.ensureIndex({\"address.city\":1,\"address.state\":1,\"address.pincode\":1})"
   ]
  },
  {
   "cell_type": "markdown",
   "metadata": {},
   "source": [
    "    查询限制\n",
    "    \n",
    "    索引不能被以下的查询使用：\n",
    "    正则表达式及非操作符，如 $nin, $not, 等。\n",
    "    算术运算符，如 $mod, 等。\n",
    "    $where 子句"
   ]
  },
  {
   "cell_type": "markdown",
   "metadata": {},
   "source": [
    "    MongoDB ObjectId\n",
    "    前4个字节表示时间戳， 接下来的3个字节是机器标识码， 紧接的两个字节由进程id组成（PID）， 最后三个字节是随机数。\n",
    "    Id = ObjectId()\n",
    "    ObjectId(\"5349b4ddd2781d08c09890f4\").getTimestamp()"
   ]
  },
  {
   "cell_type": "markdown",
   "metadata": {},
   "source": [
    "Map Reduce"
   ]
  },
  {
   "cell_type": "raw",
   "metadata": {},
   "source": [
    "db.collection.mapReduce(\n",
    "   function() {emit(key,value);},  //map 函数\n",
    "   function(key,values) {return reduceFunction},   //reduce 函数\n",
    "   {\n",
    "      out: collection,\n",
    "      query: document,\n",
    "      sort: document,\n",
    "      limit: number\n",
    "   }\n",
    ")"
   ]
  },
  {
   "cell_type": "markdown",
   "metadata": {},
   "source": [
    "    启用全文检索\n",
    "    db.adminCommand({setParameter:true,textSearchEnabled:true})"
   ]
  },
  {
   "cell_type": "markdown",
   "metadata": {},
   "source": [
    "    创建全文索引\n",
    "    db.posts.ensureIndex({post_text:\"text\"})"
   ]
  },
  {
   "cell_type": "raw",
   "metadata": {},
   "source": [
    "MongoDB使用$regex操作符来设置匹配字符串的正则表达式，使用PCRE(Pert Compatible Regular Expression)作为正则表达式语言。\n",
    "\n",
    "regex操作符\n",
    "{<field>:{$regex:/pattern/，$options:'<options>'}}\n",
    "{<field>:{$regex:'pattern'，$options:'<options>'}}\n",
    "{<field>:{$regex:/pattern/<options>}}\n",
    "正则表达式对象\n",
    "{<field>: /pattern/<options>}\n",
    "$regex与正则表达式对象的区别:\n",
    "\n",
    "在$in操作符中只能使用正则表达式对象，例如:{name:{$in:[/^joe/i,/^jack/}}\n",
    "在使用隐式的$and操作符中，只能使用$regex，例如:{name:{$regex:/^jo/i, $nin:['john']}}\n",
    "当option选项中包含X或S选项时，只能使用$regex，例如:{name:{$regex:/m.*line/,$options:\"si\"}}\n",
    "$regex操作符的使用\n",
    "\n",
    "$regex操作符中的option选项可以改变正则匹配的默认行为，它包括i, m, x以及S四个选项，其含义如下\n",
    "\n",
    "i 忽略大小写，{<field>{$regex/pattern/i}}，设置i选项后，模式中的字母会进行大小写不敏感匹配。\n",
    "m 多行匹配模式，{<field>{$regex/pattern/,$options:'m'}，m选项会更改^和$元字符的默认行为，分别使用与行的开头和结尾匹配，而不是与输入字符串的开头和结尾匹配。\n",
    "x 忽略非转义的空白字符，{<field>:{$regex:/pattern/,$options:'m'}，设置x选项后，正则表达式中的非转义的空白字符将被忽略，同时井号(#)被解释为注释的开头注，只能显式位于option选项中。\n",
    "s 单行匹配模式{<field>:{$regex:/pattern/,$options:'s'}，设置s选项后，会改变模式中的点号(.)元字符的默认行为，它会匹配所有字符，包括换行符(\\n)，只能显式位于option选项中。\n",
    "使用$regex操作符时，需要注意下面几个问题:\n",
    "\n",
    "i，m，x，s可以组合使用，例如:{name:{$regex:/j*k/,$options:\"si\"}}\n",
    "在设置索弓}的字段上进行正则匹配可以提高查询速度，而且当正则表达式使用的是前缀表达式时，查询速度会进一步提高，例如:{name:{$regex: /^joe/}"
   ]
  },
  {
   "cell_type": "raw",
   "metadata": {},
   "source": [
    "db.createCollection(\"cappedLogCollection\",{capped:true,size:10000,max:1000})"
   ]
  },
  {
   "cell_type": "raw",
   "metadata": {},
   "source": [
    "db.cappedLogCollection.isCapped()"
   ]
  }
 ],
 "metadata": {
  "kernelspec": {
   "display_name": "Python 3",
   "language": "python",
   "name": "python3"
  },
  "language_info": {
   "codemirror_mode": {
    "name": "ipython",
    "version": 3
   },
   "file_extension": ".py",
   "mimetype": "text/x-python",
   "name": "python",
   "nbconvert_exporter": "python",
   "pygments_lexer": "ipython3",
   "version": "3.6.1"
  }
 },
 "nbformat": 4,
 "nbformat_minor": 2
}
