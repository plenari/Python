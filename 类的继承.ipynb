{
 "cells": [
  {
   "cell_type": "code",
   "execution_count": 2,
   "metadata": {
    "collapsed": true
   },
   "outputs": [],
   "source": [
    "class Person(object):\n",
    "    def __init__(self,name,sex):\n",
    "        self.name = name\n",
    "        self.sex = sex\n",
    "        \n",
    "    def print_title(self):\n",
    "        if self.sex == \"male\":\n",
    "            print(\"man\")\n",
    "        elif self.sex == \"female\":\n",
    "            print(\"woman\")\n",
    "\n",
    "class Child(Person):                            # Child 继承 Person\n",
    "    pass\n",
    "            "
   ]
  },
  {
   "cell_type": "code",
   "execution_count": 3,
   "metadata": {},
   "outputs": [
    {
     "name": "stdout",
     "output_type": "stream",
     "text": [
      "May female Peter male\n",
      "woman\n",
      "man\n"
     ]
    }
   ],
   "source": [
    "May = Child(\"May\",\"female\")\n",
    "Peter = Person(\"Peter\",\"male\")\n",
    "\n",
    "print(May.name,May.sex,Peter.name,Peter.sex)    # 子类继承父类方法及属性\n",
    "May.print_title()\n",
    "Peter.print_title()"
   ]
  },
  {
   "cell_type": "markdown",
   "metadata": {},
   "source": [
    "### isinstance()   及  issubclass()"
   ]
  },
  {
   "cell_type": "code",
   "execution_count": 4,
   "metadata": {},
   "outputs": [
    {
     "name": "stdout",
     "output_type": "stream",
     "text": [
      "True\n",
      "True\n",
      "False\n",
      "True\n",
      "True\n"
     ]
    }
   ],
   "source": [
    "class Person(object):\n",
    "    pass\n",
    "\n",
    "class Child(Person):                 # Child 继承 Person\n",
    "    pass\n",
    "\n",
    "May = Child()\n",
    "Peter = Person()    \n",
    "\n",
    "print(isinstance(May,Child))         # True\n",
    "print(isinstance(May,Person))        # True\n",
    "print(isinstance(Peter,Child))       # False\n",
    "print(isinstance(Peter,Person))      # True\n",
    "print(issubclass(Child,Person))      # True"
   ]
  },
  {
   "cell_type": "markdown",
   "metadata": {},
   "source": [
    "### 继承和多态"
   ]
  },
  {
   "cell_type": "code",
   "execution_count": 5,
   "metadata": {},
   "outputs": [
    {
     "name": "stdout",
     "output_type": "stream",
     "text": [
      "May female Peter male\n",
      "girl\n",
      "man\n"
     ]
    }
   ],
   "source": [
    "class Person(object):\n",
    "    def __init__(self,name,sex):\n",
    "        self.name = name\n",
    "        self.sex = sex\n",
    "        \n",
    "    def print_title(self):\n",
    "        if self.sex == \"male\":\n",
    "            print(\"man\")\n",
    "        elif self.sex == \"female\":\n",
    "            print(\"woman\")\n",
    "\n",
    "class Child(Person):                # Child 继承 Person\n",
    "    def print_title(self):\n",
    "        if self.sex == \"male\":\n",
    "            print(\"boy\")\n",
    "        elif self.sex == \"female\":\n",
    "            print(\"girl\")\n",
    "        \n",
    "May = Child(\"May\",\"female\")\n",
    "Peter = Person(\"Peter\",\"male\")\n",
    "\n",
    "print(May.name,May.sex,Peter.name,Peter.sex)\n",
    "May.print_title()\n",
    "Peter.print_title()"
   ]
  },
  {
   "cell_type": "markdown",
   "metadata": {},
   "source": [
    "### 子类重写构造函数"
   ]
  },
  {
   "cell_type": "markdown",
   "metadata": {},
   "source": [
    "#### super(classnae,self).parentfunction\n"
   ]
  },
  {
   "cell_type": "code",
   "execution_count": 10,
   "metadata": {},
   "outputs": [
    {
     "name": "stdout",
     "output_type": "stream",
     "text": [
      "May female April June\n"
     ]
    }
   ],
   "source": [
    "class Person(object):\n",
    "    def __init__(self,name,sex):\n",
    "        self.name = name\n",
    "        self.sex = sex\n",
    "\n",
    "class Child(Person):            \n",
    "    def __init__(self,name,sex,mother,father):\n",
    "        self.name = name\n",
    "        self.sex = sex\n",
    "        self.mother = mother\n",
    "        self.father = father\n",
    "\n",
    "May = Child(\"May\",\"female\",\"April\",\"June\")\n",
    "print(May.name,May.sex,May.mother,May.father)    "
   ]
  },
  {
   "cell_type": "code",
   "execution_count": 42,
   "metadata": {},
   "outputs": [
    {
     "name": "stdout",
     "output_type": "stream",
     "text": [
      "daa\n",
      "son daa\n",
      "Hello World from Parent\n",
      "daa\n"
     ]
    }
   ],
   "source": [
    "class FooParent(object):\n",
    "    def __init__(self,pname):\n",
    "        if not isinstance(pname,str):\n",
    "            raise Exception('TypeError')\n",
    "        self.parent = pname\n",
    "        print(self.parent)     \n",
    "    \n",
    "    def bar(self,message):\n",
    "        print(\"%s from Parent\" % message)\n",
    " \n",
    "class FooChild(FooParent):\n",
    "    def __init__(self,cname):\n",
    "        # super(FooChild,self) 首先找到 FooChild 的父类（就是类 FooParent），\n",
    "        #然后把类B的对象 FooChild 转换为类 FooParent 的对象\n",
    "        super(FooChild,self).__init__(cname)    \n",
    "        print('son {:.4s}'.format(cname))\n",
    "        \n",
    "    def bar(self,message):\n",
    "        super(FooChild, self).bar(message)\n",
    "        print(self.parent)\n",
    " \n",
    "if __name__ == '__main__':\n",
    "    fooChild = FooChild('daa')\n",
    "    fooChild.bar('Hello World')"
   ]
  },
  {
   "cell_type": "code",
   "execution_count": 12,
   "metadata": {
    "scrolled": true
   },
   "outputs": [
    {
     "name": "stdout",
     "output_type": "stream",
     "text": [
      "May female\n",
      "woman\n",
      "girl\n"
     ]
    }
   ],
   "source": [
    "class Person(object):\n",
    "    def __init__(self,name,sex):\n",
    "        self.name = name\n",
    "        self.sex = sex\n",
    "        \n",
    "    def print_title(self):\n",
    "        if self.sex == \"male\":\n",
    "            print(\"man\")\n",
    "        elif self.sex == \"female\":\n",
    "            print(\"woman\")\n",
    "            \n",
    "class Child(Person):\n",
    "    pass\n",
    "\n",
    "class Baby(Child):\n",
    "    pass\n",
    "\n",
    "May = Baby(\"May\",\"female\")        # 继承上上层父类的属性\n",
    "print(May.name,May.sex)            \n",
    "May.print_title()                 # 可使用上上层父类的方法\n",
    "\n",
    "\n",
    "class Child(Person):                \n",
    "    def print_title(self):\n",
    "        if self.sex == \"male\":\n",
    "            print(\"boy\")\n",
    "        elif self.sex == \"female\":\n",
    "            print(\"girl\")\n",
    "            \n",
    "class Baby(Child):\n",
    "    pass\n",
    "            \n",
    "May = Baby(\"May\",\"female\")\n",
    "May.print_title()                # 优先使用上层类的方法"
   ]
  },
  {
   "cell_type": "markdown",
   "metadata": {},
   "source": [
    "### 所有实例共享的变量"
   ]
  },
  {
   "cell_type": "code",
   "execution_count": 67,
   "metadata": {
    "collapsed": true
   },
   "outputs": [],
   "source": [
    "class a:\n",
    "    num=0   \n",
    "    def __init__(self,):\n",
    "        a.num+=1"
   ]
  },
  {
   "cell_type": "code",
   "execution_count": 86,
   "metadata": {},
   "outputs": [
    {
     "data": {
      "text/plain": [
       "16"
      ]
     },
     "execution_count": 86,
     "metadata": {},
     "output_type": "execute_result"
    }
   ],
   "source": [
    "##a有多少个实例，被初始化了多少次\n",
    "b=a()\n",
    "b.num"
   ]
  },
  {
   "cell_type": "markdown",
   "metadata": {},
   "source": [
    "##### 一个变量的名字没有在当前类的字典中发现，将搜索祖先类（比如父类）直到被引用的变量名被找到"
   ]
  },
  {
   "cell_type": "code",
   "execution_count": 11,
   "metadata": {
    "collapsed": true
   },
   "outputs": [],
   "source": [
    "class Parent(object):\n",
    "    x=1\n",
    "class c2(Parent):\n",
    "    pass\n",
    "class c1(Parent):\n",
    "    pass"
   ]
  },
  {
   "cell_type": "code",
   "execution_count": 12,
   "metadata": {},
   "outputs": [
    {
     "data": {
      "text/plain": [
       "(1, 1, 1)"
      ]
     },
     "execution_count": 12,
     "metadata": {},
     "output_type": "execute_result"
    }
   ],
   "source": [
    "#最开始都是1，1，1\n",
    "Parent.x,c1.x,c2.x"
   ]
  },
  {
   "cell_type": "code",
   "execution_count": 15,
   "metadata": {},
   "outputs": [
    {
     "data": {
      "text/plain": [
       "(1, 2, 1)"
      ]
     },
     "execution_count": 15,
     "metadata": {},
     "output_type": "execute_result"
    }
   ],
   "source": [
    "#更改了c1.x\n",
    "c1.x=2\n",
    "Parent.x,c1.x,c2.x"
   ]
  },
  {
   "cell_type": "code",
   "execution_count": 17,
   "metadata": {},
   "outputs": [
    {
     "data": {
      "text/plain": [
       "(3, 2, 3)"
      ]
     },
     "execution_count": 17,
     "metadata": {},
     "output_type": "execute_result"
    }
   ],
   "source": [
    "#更改了p.x\n",
    "Parent.x=3\n",
    "Parent.x,c1.x,c2.x"
   ]
  }
 ],
 "metadata": {
  "kernelspec": {
   "display_name": "Python 3",
   "language": "python",
   "name": "python3"
  },
  "language_info": {
   "codemirror_mode": {
    "name": "ipython",
    "version": 3
   },
   "file_extension": ".py",
   "mimetype": "text/x-python",
   "name": "python",
   "nbconvert_exporter": "python",
   "pygments_lexer": "ipython3",
   "version": "3.6.1"
  }
 },
 "nbformat": 4,
 "nbformat_minor": 2
}
