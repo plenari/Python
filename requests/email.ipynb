{
 "cells": [
  {
   "cell_type": "code",
   "execution_count": null,
   "metadata": {
    "collapsed": true
   },
   "outputs": [],
   "source": [
    "# -*- coding: utf-8 -*-\n",
    "\"\"\"\n",
    "Created on Thu Mar  2 18:49:58 2017\n",
    "\n",
    "@author: shengjie\n",
    "\"\"\"\n",
    "from email.header import Header\n",
    "from email.mime.text import MIMEText\n",
    "from email.utils import parseaddr, formataddr\n",
    "import smtplib\n",
    "\n",
    "text='buy 00001 0.1\\nsell000002 0.2'\n",
    "\n",
    "def _format_addr(s):\n",
    "    name, addr = parseaddr(s)\n",
    "    return formataddr((Header(name, 'utf-8').encode(), addr))\n",
    "\n",
    "from_addr = 'shengjiex@qq.com'\n",
    "\n",
    "password = 'dqwtqpwauvxwcaei'#qq授权码\n",
    "#password = 'python12'\n",
    "smtp_server = 'smtp.qq.com'\n",
    "'''\n",
    "网易邮箱 shengjiex@126.com\n",
    "授权码可能是python12\n",
    "\n",
    "'''\n",
    "to_addr = 'shengjiex@outlook.com'\n",
    "\n",
    "msg = MIMEText(text, 'plain', 'utf-8')\n",
    "msg['From'] = _format_addr('PAT <%s>' % from_addr)\n",
    "msg['To'] = _format_addr('XSJ <%s>' % to_addr)\n",
    "msg['Subject'] = Header('sometickets', 'utf-8').encode()\n",
    "\n",
    "server = smtplib.SMTP_SSL(smtp_server, 465)\n",
    "server.set_debuglevel(0)\n",
    "server.login(from_addr, password)\n",
    "server.sendmail(from_addr, [to_addr], msg.as_string())\n",
    "server.quit()\n"
   ]
  }
 ],
 "metadata": {
  "kernelspec": {
   "display_name": "Python 3",
   "language": "python",
   "name": "python3"
  },
  "language_info": {
   "codemirror_mode": {
    "name": "ipython",
    "version": 3
   },
   "file_extension": ".py",
   "mimetype": "text/x-python",
   "name": "python",
   "nbconvert_exporter": "python",
   "pygments_lexer": "ipython3",
   "version": "3.6.4"
  }
 },
 "nbformat": 4,
 "nbformat_minor": 2
}
