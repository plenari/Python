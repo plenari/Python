{
 "cells": [
  {
   "cell_type": "markdown",
   "metadata": {},
   "source": [
    "### 腾讯股票接口："
   ]
  },
  {
   "cell_type": "raw",
   "metadata": {},
   "source": [
    "\n",
    "分时图 \n",
    "http://data.gtimg.cn/flashdata/hushen/minute/sz000001.js?maxage=110&0.28163905744440854\n",
    "\n",
    "五天分时图 \n",
    "http://data.gtimg.cn/flashdata/hushen/4day/sz/sz000002.js?maxage=43200&visitDstTime=1\n",
    "\n",
    "日k \n",
    "http://data.gtimg.cn/flashdata/hushen/latest/daily/sz000002.js?maxage=43201&visitDstTime=1\n",
    "\n",
    "指定年份的日K先 \n",
    "http://data.gtimg.cn/flashdata/hushen/daily/17/sz000750.js?visitDstTime=1\n",
    "\n",
    "周K \n",
    "http://data.gtimg.cn/flashdata/hushen/latest/weekly/sz000002.js?maxage=43201&visitDstTime=1\n",
    "\n",
    "月k \n",
    "http://data.gtimg.cn/flashdata/hushen/monthly/sz000002.js?maxage=43201\n",
    "\n",
    "实时成交量明细 \n",
    "http://stock.gtimg.cn/data/index.php?appn=detail&action=data&c=sz002451&p=2 \n",
    "p为分页\n",
    "\n",
    "大单数据 \n",
    "http://stock.finance.qq.com/sstock/list/view/dadan.php?t=js&c=sz002451&max=80&p=1&opt=10&o=0 \n",
    "opt=10 11 12 13 分别对应成交额大于等于（100万 200万 500万 1000万） \n",
    "opt=1,2,3,4,5,6,7,8 分别对应成交量大于等于（100手 200手 300手 400手 500手 800手 1000手 1500手 2000手）\n",
    "\n",
    "和讯网股票接口：\n",
    "日k（所有数据） \n",
    "http://flashquote.stock.hexun.com/Quotejs/DA/1_601398_DA.html\n",
    "\n",
    "指定时间区域的日k \n",
    "http://webstock.quote.hermes.hexun.com/a/kline?code=sse601398&start=20170909150000&number=-1000&type=5&callback=callback\n",
    "\n",
    "分时线 \n",
    "http://flashquote.stock.hexun.com/Quotejs/MA/1_000001_MA.html?\n",
    "\n",
    "指定时间区域的分时线 \n",
    "http://webstock.quote.hermes.hexun.com/a/minute?code=sse600000&start=20170424000000&number=6000&callback=callback\n",
    "\n",
    "明细接口 \n",
    "http://flashquote.stock.hexun.com/Stock_DL.ASPX?m=1&c=000001&t=0.6584310308098793\n",
    "\n",
    "新浪股票接口：\n",
    "最近二十天左右的每5分钟数据 \n",
    "http://money.finance.sina.com.cn/quotes_service/api/json_v2.php/CN_MarketData.getKLineData?symbol=sz000001&scale=5&ma=5&datalen=1023 \n",
    "（参数：股票编号、分钟间隔（5、15、30、60）、均值（5、10、15、20、25）、查询个数点（最大值242））\n",
    "\n",
    "新浪关键词查询股票接口 \n",
    "http://suggest3.sinajs.cn/suggest/type=&key=60&name=suggestdata_1429775785401\n",
    "\n",
    "查询股票最新行情 \n",
    "http://hq.sinajs.cn/list=sh601003,sh601001\n",
    "\n",
    "返回结果如下：\n",
    "\n",
    "var hq_str_sz002142=\"宁波银行,22.19,22.18,22.39,22.46,21.91,22.38,22.39,68778438,1527185943.73,674547,22.38,14600,22.37,3600,22.36,12700,22.35,2000,22.34,109847,22.39,255400,22.40,13100,22.41,35200,22.42,39200,22.43,2015-06-12,15:05:37,00\";\n",
    "今开，昨收，今收，最高，最低，成交量，成交额\n",
    "var hq_str_sh601006=\"大秦铁路, 27.55, 27.25, 26.91, 27.55, 26.20, 26.91, 26.92, \n",
    "22114263, 589824680, 4695, 26.91, 57590, 26.90, 14700, 26.89, 14300,\n",
    "26.88, 15100, 26.87, 3100, 26.92, 8900, 26.93, 14230, 26.94, 25150, 26.95, 15220, 26.96, 2008-01-11, 15:05:32\";\n",
    "1\n",
    "2\n",
    "3\n",
    "4\n",
    "5\n",
    "这个字符串由许多数据拼接在一起，不同含义的数据用逗号隔开了，按照程序员的思路，顺序号从0开始。 \n",
    "0：”大秦铁路”，股票名字； \n",
    "1：”27.55″，今日开盘价； \n",
    "2：”27.25″，昨日收盘价； \n",
    "3：”26.91″，当前价格； \n",
    "4：”27.55″，今日最高价； \n",
    "5：”26.20″，今日最低价； \n",
    "6：”26.91″，竞买价，即“买一”报价； \n",
    "7：”26.92″，竞卖价，即“卖一”报价； \n",
    "8：”22114263″，成交的股票数，由于股票交易以一百股为基本单位，所以在使用时，通常把该值除以一百； \n",
    "9：”589824680″，成交金额，单位为“元”，为了一目了然，通常以“万元”为成交金额的单位，所以通常把该值除以一万； \n",
    "10：”4695″，“买一”申请4695股，即47手； \n",
    "11：”26.91″，“买一”报价； \n",
    "12：”57590″，“买二” \n",
    "13：”26.90″，“买二” \n",
    "14：”14700″，“买三” \n",
    "15：”26.89″，“买三” \n",
    "16：”14300″，“买四” \n",
    "17：”26.88″，“买四” \n",
    "18：”15100″，“买五” \n",
    "19：”26.87″，“买五” \n",
    "20：”3100″，“卖一”申报3100股，即31手； \n",
    "21：”26.92″，“卖一”报价 \n",
    "(22, 23), (24, 25), (26,27), (28, 29)分别为“卖二”至“卖四的情况” \n",
    "30：”2008-01-11″，日期； \n",
    "31：”15:05:32″，时间；\n",
    "\n",
    "对于股票的K线图，日线图等的获取可以通过请求http://image.sinajs.cn/…./…/.gif此URL获取，其中代表股票代码，详见如下： \n",
    "查看日K线图： \n",
    "http://image.sinajs.cn/newchart/daily/n/sh601006.gif\n",
    "\n",
    "分时线的查询： \n",
    "http://image.sinajs.cn/newchart/min/n/sh000001.gif\n",
    "\n",
    "日K线查询： \n",
    "http://image.sinajs.cn/newchart/daily/n/sh000001.gif\n",
    "\n",
    "周K线查询： \n",
    "http://image.sinajs.cn/newchart/weekly/n/sh000001.gif\n",
    "\n",
    "月K线查询： \n",
    "http://image.sinajs.cn/newchart/monthly/n/sh000001.gif\n",
    "\n",
    "网易的数据问题是只能提供不复权的数据，所以我们从网易提取流通市值和总市值，其他的从雪球提取，由于交易时段网易没有相关的接口来抓取流通市值和总市值，所以从腾讯接口提取实时的数据。\n",
    "\n",
    "网易的接口是：\n",
    "网易的数据格式为csv文件\n",
    "\n",
    "日线\n",
    "\n",
    "http://quotes.money.163.com/service/chddata.html?code=代码&start=开始时间&end=结束时间&fields=TCLOSE;HIGH;LOW;TOPEN;LCLOSE;CHG;PCHG;TURNOVER;VOTURNOVER;VATURNOVER;TCAP;MCAP\n",
    "\n",
    "参数说明：代码为股票代码，上海股票前加0，如600756变成0600756，深圳股票前加1。时间都是6位标识法，年月日，fields标识想要请求的数据。可以不变。\n",
    "\n",
    "例如大盘指数数据查询（上证指数000001前加0，沪深300指数000300股票前加0，深证成指399001前加1，中小板指399005前加1，创业板指399006前加1）： \n",
    "http://quotes.money.163.com/service/chddata.html?code=0000300&start=20151219&end=20171108&fields=TCLOSE;HIGH;LOW;TOPEN;LCLOSE;CHG;PCHG;VOTURNOVER\n",
    "\n",
    "上海股票数据查询（浪潮）：http://quotes.money.163.com/service/chddata.html?code=0600756&start=20160902&end=20171108&fields=TCLOSE;HIGH;LOW;TOPEN;LCLOSE;CHG;PCHG;VOTURNOVER;\n",
    "\n",
    "雪球的接口是：\n",
    "雪球网的数据格式是json字符串\n",
    "\n",
    "https://xueqiu.com/stock/forchartk/stocklist.json?symbol=代码&period=1day&type=复权还是不复权&begin=开始时间时间戳&end=结束时间时间戳&_=结束时间时间戳\n",
    "\n",
    "地址参数：上海股票在编号前加SH，深圳股票，在编号前加SZ，period代表的时间间隔，复权不复权使用after和before表示，开始时间和结束时间要用时间戳表示"
   ]
  },
  {
   "cell_type": "markdown",
   "metadata": {},
   "source": [
    "#### 雪球"
   ]
  },
  {
   "cell_type": "code",
   "execution_count": 1,
   "metadata": {},
   "outputs": [],
   "source": [
    "import requests\n",
    "from bs4 import BeautifulSoup as bs"
   ]
  },
  {
   "cell_type": "code",
   "execution_count": 2,
   "metadata": {},
   "outputs": [],
   "source": [
    "head={'User-Agent': 'Mozilla/5.0 (Windows NT 10.0; Win64; x64) \\\n",
    "    AppleWebKit/537.36 (KHTML, like Gecko) Chrome/65.0.3325.181 Safari/537.36'}"
   ]
  },
  {
   "cell_type": "code",
   "execution_count": 3,
   "metadata": {},
   "outputs": [
    {
     "name": "stdout",
     "output_type": "stream",
     "text": [
      "200\n"
     ]
    }
   ],
   "source": [
    "url='https://xueqiu.com/S/SH600354'\n",
    "r=requests.get(url,headers=head)\n",
    "print(r.status_code)"
   ]
  },
  {
   "cell_type": "code",
   "execution_count": 5,
   "metadata": {},
   "outputs": [],
   "source": [
    "soup=bs(r.text,'lxml')"
   ]
  },
  {
   "cell_type": "code",
   "execution_count": 6,
   "metadata": {},
   "outputs": [
    {
     "data": {
      "text/plain": [
       "['今开：7.75', '最高：8.42', '52周最高：10.29', '成交量：7897.60万', '昨收：7.65']"
      ]
     },
     "execution_count": 6,
     "metadata": {},
     "output_type": "execute_result"
    }
   ],
   "source": [
    "price=[i.text for i in soup.select('td')]\n",
    "price[:5]"
   ]
  }
 ],
 "metadata": {
  "kernelspec": {
   "display_name": "Python 3",
   "language": "python",
   "name": "python3"
  },
  "language_info": {
   "codemirror_mode": {
    "name": "ipython",
    "version": 3
   },
   "file_extension": ".py",
   "mimetype": "text/x-python",
   "name": "python",
   "nbconvert_exporter": "python",
   "pygments_lexer": "ipython3",
   "version": "3.6.4"
  }
 },
 "nbformat": 4,
 "nbformat_minor": 2
}
