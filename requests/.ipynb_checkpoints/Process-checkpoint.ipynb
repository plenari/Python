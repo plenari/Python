{
 "cells": [
  {
   "cell_type": "code",
   "execution_count": 2,
   "metadata": {
    "collapsed": true
   },
   "outputs": [],
   "source": [
    "from multiprocessing import Process,Pool\n",
    "import os,time,random"
   ]
  },
  {
   "cell_type": "code",
   "execution_count": 3,
   "metadata": {},
   "outputs": [
    {
     "name": "stdout",
     "output_type": "stream",
     "text": [
      "Parent process 3116.\n",
      "Process will start.\n",
      "Process end.\n"
     ]
    }
   ],
   "source": [
    "def run_proc(name):\n",
    "    print('Run child process %s (%s)...'%(name, os.getpid()))\n",
    "\n",
    "if __name__=='__main__':\n",
    "    print ('Parent process %s.'%os.getpid())\n",
    "    p = Process(target=run_proc, args=('test',))\n",
    "    print('Process will start.')    \n",
    "    p.start()#start\n",
    "    p.join()#waiting\n",
    "    print('Process end.')"
   ]
  },
  {
   "cell_type": "code",
   "execution_count": 6,
   "metadata": {
    "collapsed": true
   },
   "outputs": [],
   "source": [
    "from multiprocessing import Pool\n",
    "import os, time, random\n",
    "\n",
    "def long_time_task(name):\n",
    "    #print('Run task %s (%s)...' % (name,os.getpid()))\n",
    "    start = time.time()\n",
    "    time.sleep(2)\n",
    "    end = time.time()\n",
    "    #print('Task %s runs %0.2f seconds.' % (name,(end-start)))"
   ]
  },
  {
   "cell_type": "code",
   "execution_count": 11,
   "metadata": {},
   "outputs": [
    {
     "ename": "SyntaxError",
     "evalue": "invalid character in identifier (<ipython-input-11-e02f62c473b2>, line 3)",
     "output_type": "error",
     "traceback": [
      "\u001b[0;36m  File \u001b[0;32m\"<ipython-input-11-e02f62c473b2>\"\u001b[0;36m, line \u001b[0;32m3\u001b[0m\n\u001b[0;31m    p=Pool()\u001b[0m\n\u001b[0m            　　　^\u001b[0m\n\u001b[0;31mSyntaxError\u001b[0m\u001b[0;31m:\u001b[0m invalid character in identifier\n"
     ]
    }
   ],
   "source": [
    "if __name__=='__main__':\n",
    "    #print('Parent process %s.' % os.getpid())\n",
    "    p=Pool()　　　　\n",
    "    for i in range(5):\n",
    "        p.apply_async(long_time_task,args=(i,))　　#add to list\n",
    "    #print('Waiting for all subprocesses done....')\n",
    "    p.close()#stop add\n",
    "    p.join()    #waiting for done!\n",
    "\n",
    "    #print('All subprocessesdone.')"
   ]
  },
  {
   "cell_type": "markdown",
   "metadata": {},
   "source": [
    "## queue process"
   ]
  },
  {
   "cell_type": "code",
   "execution_count": null,
   "metadata": {
    "collapsed": true
   },
   "outputs": [],
   "source": []
  },
  {
   "cell_type": "code",
   "execution_count": null,
   "metadata": {
    "collapsed": true
   },
   "outputs": [],
   "source": []
  },
  {
   "cell_type": "code",
   "execution_count": null,
   "metadata": {
    "collapsed": true
   },
   "outputs": [],
   "source": []
  },
  {
   "cell_type": "code",
   "execution_count": null,
   "metadata": {
    "collapsed": true
   },
   "outputs": [],
   "source": []
  }
 ],
 "metadata": {
  "kernelspec": {
   "display_name": "Python 3",
   "language": "python",
   "name": "python3"
  },
  "language_info": {
   "codemirror_mode": {
    "name": "ipython",
    "version": 3
   },
   "file_extension": ".py",
   "mimetype": "text/x-python",
   "name": "python",
   "nbconvert_exporter": "python",
   "pygments_lexer": "ipython3",
   "version": "3.6.1"
  }
 },
 "nbformat": 4,
 "nbformat_minor": 2
}
