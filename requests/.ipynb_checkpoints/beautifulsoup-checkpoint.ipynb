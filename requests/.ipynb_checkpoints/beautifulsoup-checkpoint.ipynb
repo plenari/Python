{
 "cells": [
  {
   "cell_type": "markdown",
   "metadata": {},
   "source": [
    "### soup"
   ]
  },
  {
   "cell_type": "code",
   "execution_count": 1,
   "metadata": {},
   "outputs": [],
   "source": [
    "import requests\n",
    "from bs4 import BeautifulSoup as bs"
   ]
  },
  {
   "cell_type": "code",
   "execution_count": 2,
   "metadata": {},
   "outputs": [
    {
     "name": "stdout",
     "output_type": "stream",
     "text": [
      "200\n"
     ]
    }
   ],
   "source": [
    "head={'User-Agent': 'Mozilla/5.0 (Windows NT 10.0; Win64; x64) \\\n",
    "    AppleWebKit/537.36 (KHTML, like Gecko) Chrome/65.0.3325.181 Safari/537.36'}\n",
    "url='https://xueqiu.com/S/SH601318'\n",
    "r=requests.get(url,headers=head)\n",
    "print(r.status_code)"
   ]
  },
  {
   "cell_type": "code",
   "execution_count": 7,
   "metadata": {},
   "outputs": [],
   "source": [
    "soup=bs(r.text,'lxml')"
   ]
  },
  {
   "cell_type": "raw",
   "metadata": {},
   "source": [
    "四大对象种类\n",
    "Beautiful Soup 将复杂HTML文档转换成一个复杂的树形结构,每个节点都是 Python 对象,所有对象可以归纳为4种:\n",
    "\n",
    "Tag\n",
    "NavigableString\n",
    "BeautifulSoup\n",
    "Comment"
   ]
  },
  {
   "cell_type": "code",
   "execution_count": null,
   "metadata": {},
   "outputs": [],
   "source": []
  },
  {
   "cell_type": "markdown",
   "metadata": {},
   "source": [
    "### 获取标签\n",
    "    只能获取第一个标签\n",
    "    <title>The Dormouse's story</title>\n",
    "    标签有name，attrs属性"
   ]
  },
  {
   "cell_type": "code",
   "execution_count": 39,
   "metadata": {},
   "outputs": [
    {
     "data": {
      "text/plain": [
       "<td>今开：<span class=\"stock-rise\">64.90</span></td>"
      ]
     },
     "execution_count": 39,
     "metadata": {},
     "output_type": "execute_result"
    }
   ],
   "source": [
    "#获取标签，其中class,是属性\n",
    "soup.td"
   ]
  },
  {
   "cell_type": "code",
   "execution_count": 42,
   "metadata": {},
   "outputs": [
    {
     "data": {
      "text/plain": [
       "{'class': ['stock-rise']}"
      ]
     },
     "execution_count": 42,
     "metadata": {},
     "output_type": "execute_result"
    }
   ],
   "source": [
    "#获取标签的标签\n",
    "#soup.td.span.name,\n",
    "soup.td.span.attrs"
   ]
  },
  {
   "cell_type": "code",
   "execution_count": 16,
   "metadata": {},
   "outputs": [],
   "source": [
    "soup.attr"
   ]
  },
  {
   "cell_type": "markdown",
   "metadata": {},
   "source": [
    "#### NavigableString,获得内容"
   ]
  },
  {
   "cell_type": "code",
   "execution_count": 44,
   "metadata": {},
   "outputs": [
    {
     "data": {
      "text/plain": [
       "<span class=\"stock-rise\">64.90</span>"
      ]
     },
     "execution_count": 44,
     "metadata": {},
     "output_type": "execute_result"
    }
   ],
   "source": [
    "soup.td.span"
   ]
  },
  {
   "cell_type": "code",
   "execution_count": 46,
   "metadata": {},
   "outputs": [
    {
     "data": {
      "text/plain": [
       "'64.90'"
      ]
     },
     "execution_count": 46,
     "metadata": {},
     "output_type": "execute_result"
    }
   ],
   "source": [
    "soup.td.span.string"
   ]
  },
  {
   "cell_type": "code",
   "execution_count": 47,
   "metadata": {
    "scrolled": true
   },
   "outputs": [
    {
     "data": {
      "text/plain": [
       "'64.90'"
      ]
     },
     "execution_count": 47,
     "metadata": {},
     "output_type": "execute_result"
    }
   ],
   "source": [
    "soup.td.span.text"
   ]
  },
  {
   "cell_type": "markdown",
   "metadata": {},
   "source": [
    "### BeautifulSoup"
   ]
  },
  {
   "cell_type": "markdown",
   "metadata": {},
   "source": [
    "### Comment"
   ]
  },
  {
   "cell_type": "markdown",
   "metadata": {},
   "source": [
    "### 遍历文档树"
   ]
  },
  {
   "cell_type": "code",
   "execution_count": 53,
   "metadata": {},
   "outputs": [
    {
     "name": "stdout",
     "output_type": "stream",
     "text": [
      "None\n",
      "None\n",
      "None\n",
      "None\n",
      "None\n",
      "None\n",
      "None\n",
      "None\n",
      "None\n",
      "中国平安 64.55 (+0.06%) (SH601318)的股票股价,行情,新闻,财报,数据 - 雪球\n",
      "None\n",
      "window.SNOWMAN_USER = {};\n",
      "window.SNB = {\n",
      "  staticDomain: 'https://assets.imedao.com/'\n",
      "};\n",
      "None\n",
      "None\n",
      "None\n",
      "Raven.config('https://679b450e5be84810a1f6d152e560aa38@sentry.xueqiu.com/78').install()\n",
      "Raven.setUserContext({\n",
      "  id: SNOWMAN_USER.id || -1,\n",
      "  username: SNOWMAN_USER.screen_name || '',\n",
      "  ip_address: '219.216.105.182'\n",
      "});\n",
      "None\n",
      "None\n"
     ]
    }
   ],
   "source": [
    "for i in soup.head.children:\n",
    "    print(i.string)"
   ]
  },
  {
   "cell_type": "markdown",
   "metadata": {},
   "source": [
    "### find_all\n",
    "    find_all( name , attrs , recursive , text , **kwargs )"
   ]
  },
  {
   "cell_type": "code",
   "execution_count": 57,
   "metadata": {},
   "outputs": [
    {
     "data": {
      "text/plain": [
       "[<td>今开：<span class=\"stock-rise\">64.90</span></td>,\n",
       " <td>最高：<span class=\"stock-rise\" id=\"quote-high\">65.58</span></td>,\n",
       " <td>52周最高：<span>81.28</span></td>,\n",
       " <td title=\"当日成交量，单位：股\">成交量：<span id=\"quote-volume\">6799.90万</span></td>,\n",
       " <td>昨收：<span>64.51</span></td>,\n",
       " <td>最低：<span class=\"stock-fall\" id=\"quote-low\">63.98</span></td>,\n",
       " <td>52周最低：<span>33.85</span></td>,\n",
       " <td>成交额：<span>44.15亿</span></td>,\n",
       " <td>涨停价：<span>70.96</span></td>,\n",
       " <td>换手率：<span>0.63%</span></td>,\n",
       " <td title=\"最近报告期每股收益，单位：undefined\">每股收益：<span>4.99</span></td>,\n",
       " <td>市盈率(静)/(TTM)：<span>13.24/13.24</span></td>,\n",
       " <td>跌停价：<span>58.06</span></td>,\n",
       " <td title=\"单位：%\">振幅：<span>2.48%</span></td>,\n",
       " <td title=\"最近报告期每股净资产，单位：undefined\">每股净资产：<span>25.89</span></td>,\n",
       " <td>市净率(动)：<span>2.49</span></td>,\n",
       " <td>总股本：<span>182.80亿</span></td>,\n",
       " <td>流通股本：<span>108.33亿</span></td>,\n",
       " <td>总市值：<span>11799.90亿</span></td>,\n",
       " <td>流通市值：<span>6992.48亿</span></td>]"
      ]
     },
     "execution_count": 57,
     "metadata": {},
     "output_type": "execute_result"
    }
   ],
   "source": [
    "soup.find_all('td')"
   ]
  },
  {
   "cell_type": "markdown",
   "metadata": {},
   "source": [
    "#### CSS选择器\n",
    "我们在写 CSS 时，标签名不加任何修饰，类名前加点，id名前加 #，在这里我们也可以利用类似的方法来筛选元素，用到的方法是 soup.select()，返回类型是 list"
   ]
  },
  {
   "cell_type": "code",
   "execution_count": 115,
   "metadata": {},
   "outputs": [
    {
     "data": {
      "text/plain": [
       "[<td>今开：<span class=\"stock-rise\">64.90</span></td>,\n",
       " <td>最高：<span class=\"stock-rise\" id=\"quote-high\">65.58</span></td>,\n",
       " <td>52周最高：<span>81.28</span></td>,\n",
       " <td title=\"当日成交量，单位：股\">成交量：<span id=\"quote-volume\">6799.90万</span></td>,\n",
       " <td>昨收：<span>64.51</span></td>,\n",
       " <td>最低：<span class=\"stock-fall\" id=\"quote-low\">63.98</span></td>,\n",
       " <td>52周最低：<span>33.85</span></td>,\n",
       " <td>成交额：<span>44.15亿</span></td>,\n",
       " <td>涨停价：<span>70.96</span></td>,\n",
       " <td>换手率：<span>0.63%</span></td>,\n",
       " <td title=\"最近报告期每股收益，单位：undefined\">每股收益：<span>4.99</span></td>,\n",
       " <td>市盈率(静)/(TTM)：<span>13.24/13.24</span></td>,\n",
       " <td>跌停价：<span>58.06</span></td>,\n",
       " <td title=\"单位：%\">振幅：<span>2.48%</span></td>,\n",
       " <td title=\"最近报告期每股净资产，单位：undefined\">每股净资产：<span>25.89</span></td>,\n",
       " <td>市净率(动)：<span>2.49</span></td>,\n",
       " <td>总股本：<span>182.80亿</span></td>,\n",
       " <td>流通股本：<span>108.33亿</span></td>,\n",
       " <td>总市值：<span>11799.90亿</span></td>,\n",
       " <td>流通市值：<span>6992.48亿</span></td>]"
      ]
     },
     "execution_count": 115,
     "metadata": {},
     "output_type": "execute_result"
    }
   ],
   "source": [
    "soup.select('td')"
   ]
  },
  {
   "cell_type": "code",
   "execution_count": 80,
   "metadata": {
    "scrolled": true
   },
   "outputs": [
    {
     "data": {
      "text/plain": [
       "[<title>中国平安 64.55 (+0.06%) (SH601318)的股票股价,行情,新闻,财报,数据 - 雪球</title>]"
      ]
     },
     "execution_count": 80,
     "metadata": {},
     "output_type": "execute_result"
    }
   ],
   "source": [
    "#通过标签名查找\n",
    "soup.select('title') "
   ]
  },
  {
   "cell_type": "code",
   "execution_count": 90,
   "metadata": {},
   "outputs": [
    {
     "data": {
      "text/plain": [
       "[<span class=\"stock-fall\" id=\"quote-low\">63.98</span>]"
      ]
     },
     "execution_count": 90,
     "metadata": {},
     "output_type": "execute_result"
    }
   ],
   "source": [
    "#通过类名查找\n",
    "soup.select('.stock-fall')"
   ]
  },
  {
   "cell_type": "code",
   "execution_count": 94,
   "metadata": {},
   "outputs": [
    {
     "data": {
      "text/plain": [
       "<span class=\"stock-fall\" id=\"quote-low\">63.98</span>"
      ]
     },
     "execution_count": 94,
     "metadata": {},
     "output_type": "execute_result"
    }
   ],
   "source": [
    "#通过 id 名查找\n",
    "soup.select('#quote-low')[0]"
   ]
  },
  {
   "cell_type": "code",
   "execution_count": 114,
   "metadata": {},
   "outputs": [
    {
     "data": {
      "text/plain": [
       "[<span class=\"stock-rise\">64.90</span>,\n",
       " <span class=\"stock-rise\" id=\"quote-high\">65.58</span>]"
      ]
     },
     "execution_count": 114,
     "metadata": {},
     "output_type": "execute_result"
    }
   ],
   "source": [
    "soup.select('td [class=\"stock-rise\"]')"
   ]
  },
  {
   "cell_type": "code",
   "execution_count": 108,
   "metadata": {},
   "outputs": [
    {
     "data": {
      "text/plain": [
       "[<td>今开：<span class=\"stock-rise\">64.90</span></td>,\n",
       " <td>最高：<span class=\"stock-rise\" id=\"quote-high\">65.58</span></td>,\n",
       " <td>52周最高：<span>81.28</span></td>,\n",
       " <td title=\"当日成交量，单位：股\">成交量：<span id=\"quote-volume\">6799.90万</span></td>,\n",
       " <td>昨收：<span>64.51</span></td>,\n",
       " <td>最低：<span class=\"stock-fall\" id=\"quote-low\">63.98</span></td>,\n",
       " <td>52周最低：<span>33.85</span></td>,\n",
       " <td>成交额：<span>44.15亿</span></td>,\n",
       " <td>涨停价：<span>70.96</span></td>,\n",
       " <td>换手率：<span>0.63%</span></td>,\n",
       " <td title=\"最近报告期每股收益，单位：undefined\">每股收益：<span>4.99</span></td>,\n",
       " <td>市盈率(静)/(TTM)：<span>13.24/13.24</span></td>,\n",
       " <td>跌停价：<span>58.06</span></td>,\n",
       " <td title=\"单位：%\">振幅：<span>2.48%</span></td>,\n",
       " <td title=\"最近报告期每股净资产，单位：undefined\">每股净资产：<span>25.89</span></td>,\n",
       " <td>市净率(动)：<span>2.49</span></td>,\n",
       " <td>总股本：<span>182.80亿</span></td>,\n",
       " <td>流通股本：<span>108.33亿</span></td>,\n",
       " <td>总市值：<span>11799.90亿</span></td>,\n",
       " <td>流通市值：<span>6992.48亿</span></td>]"
      ]
     },
     "execution_count": 108,
     "metadata": {},
     "output_type": "execute_result"
    }
   ],
   "source": [
    "soup.select('td')"
   ]
  }
 ],
 "metadata": {
  "kernelspec": {
   "display_name": "Python 3",
   "language": "python",
   "name": "python3"
  },
  "language_info": {
   "codemirror_mode": {
    "name": "ipython",
    "version": 3
   },
   "file_extension": ".py",
   "mimetype": "text/x-python",
   "name": "python",
   "nbconvert_exporter": "python",
   "pygments_lexer": "ipython3",
   "version": "3.6.4"
  }
 },
 "nbformat": 4,
 "nbformat_minor": 2
}
